{
 "cells": [
  {
   "cell_type": "code",
   "execution_count": 101,
   "metadata": {},
   "outputs": [],
   "source": [
    "from selenium import webdriver\n",
    "import time\n",
    "import tqdm\n",
    "import glob as gb\n",
    "import winsound"
   ]
  },
  {
   "cell_type": "code",
   "execution_count": 102,
   "metadata": {},
   "outputs": [],
   "source": [
    "# generate Webdriver object - Chrome version 79.0.3945.130 (64 bit)\n",
    "driver = webdriver.Chrome('driver/chromedriver.exe')\n",
    "driver.get('https://nid.naver.com/nidlogin.login')"
   ]
  },
  {
   "cell_type": "markdown",
   "metadata": {},
   "source": [
    "## <<< Login manually at this step >>>"
   ]
  },
  {
   "cell_type": "markdown",
   "metadata": {},
   "source": [
    "## Crawling for all menus of a certain group"
   ]
  },
  {
   "cell_type": "code",
   "execution_count": 125,
   "metadata": {},
   "outputs": [
    {
     "name": "stdout",
     "output_type": "stream",
     "text": [
      "Let me crawl 19.수능특강light(정회원) menu of group373...\n",
      "Let me crawl 19.EBS단기특강(유형독해)(정회원) menu of group373...\n",
      "Start crawling 1 page, 45 items\n"
     ]
    },
    {
     "name": "stderr",
     "output_type": "stream",
     "text": [
      "C:\\Users\\student\\Anaconda3\\envs\\homeET\\lib\\site-packages\\ipykernel_launcher.py:57: TqdmDeprecationWarning: This function will be removed in tqdm==5.0.0\n",
      "Please use `tqdm.notebook.tqdm` instead of `tqdm.tqdm_notebook`\n"
     ]
    },
    {
     "data": {
      "application/vnd.jupyter.widget-view+json": {
       "model_id": "60d3810aa9b5408b911b85d643e87103",
       "version_major": 2,
       "version_minor": 0
      },
      "text/plain": [
       "HBox(children=(FloatProgress(value=0.0, max=45.0), HTML(value='')))"
      ]
     },
     "metadata": {},
     "output_type": "display_data"
    },
    {
     "name": "stdout",
     "output_type": "stream",
     "text": [
      "\n",
      ">>> crawling successfully finishied\n",
      "Let me crawl 18.올림포스(1)(정회원) menu of group373...\n",
      "Start crawling 1 page, 17 items\n"
     ]
    },
    {
     "data": {
      "application/vnd.jupyter.widget-view+json": {
       "model_id": "0c4e5fa3428145f3a2d68345c9051e9d",
       "version_major": 2,
       "version_minor": 0
      },
      "text/plain": [
       "HBox(children=(FloatProgress(value=0.0, max=17.0), HTML(value='')))"
      ]
     },
     "metadata": {},
     "output_type": "display_data"
    },
    {
     "name": "stdout",
     "output_type": "stream",
     "text": [
      "\n",
      ">>> crawling successfully finishied\n",
      "Let me crawl 18.올림포스(2)(정회원) menu of group373...\n",
      "Start crawling 1 page, 17 items\n"
     ]
    },
    {
     "data": {
      "application/vnd.jupyter.widget-view+json": {
       "model_id": "a4ead7109c0440cf86674cd46f171fd9",
       "version_major": 2,
       "version_minor": 0
      },
      "text/plain": [
       "HBox(children=(FloatProgress(value=0.0, max=17.0), HTML(value='')))"
      ]
     },
     "metadata": {},
     "output_type": "display_data"
    },
    {
     "name": "stdout",
     "output_type": "stream",
     "text": [
      "\n",
      ">>> crawling successfully finishied\n",
      "Let me crawl 리딩파워(기본)(정회원) menu of group373...\n",
      "Start crawling 1 page, 29 items\n"
     ]
    },
    {
     "data": {
      "application/vnd.jupyter.widget-view+json": {
       "model_id": "0741b45ab1ba427eaaedee970371bde6",
       "version_major": 2,
       "version_minor": 0
      },
      "text/plain": [
       "HBox(children=(FloatProgress(value=0.0, max=29.0), HTML(value='')))"
      ]
     },
     "metadata": {},
     "output_type": "display_data"
    },
    {
     "name": "stdout",
     "output_type": "stream",
     "text": [
      "\n",
      ">>> crawling successfully finishied\n",
      "Let me crawl 리딩파워(완성)(정회원) menu of group373...\n",
      "Start crawling 1 page, 28 items\n"
     ]
    },
    {
     "data": {
      "application/vnd.jupyter.widget-view+json": {
       "model_id": "867d95c2ecbb43259531d6ea4064c8d9",
       "version_major": 2,
       "version_minor": 0
      },
      "text/plain": [
       "HBox(children=(FloatProgress(value=0.0, max=28.0), HTML(value='')))"
      ]
     },
     "metadata": {},
     "output_type": "display_data"
    },
    {
     "name": "stdout",
     "output_type": "stream",
     "text": [
      "\n",
      ">>> crawling successfully finishied\n",
      "Let me crawl 리딩파워(주제별독해1)(정회원) menu of group373...\n",
      "Start crawling 1 page, 24 items\n"
     ]
    },
    {
     "data": {
      "application/vnd.jupyter.widget-view+json": {
       "model_id": "746a4c616afd468bb459af10c92293cc",
       "version_major": 2,
       "version_minor": 0
      },
      "text/plain": [
       "HBox(children=(FloatProgress(value=0.0, max=24.0), HTML(value='')))"
      ]
     },
     "metadata": {},
     "output_type": "display_data"
    },
    {
     "name": "stdout",
     "output_type": "stream",
     "text": [
      "\n",
      ">>> crawling successfully finishied\n",
      "Let me crawl 리딩파워(주제별독해2)(정회원) menu of group373...\n",
      "Start crawling 1 page, 24 items\n"
     ]
    },
    {
     "data": {
      "application/vnd.jupyter.widget-view+json": {
       "model_id": "654931c74f82461abe05b5671f41e87b",
       "version_major": 2,
       "version_minor": 0
      },
      "text/plain": [
       "HBox(children=(FloatProgress(value=0.0, max=24.0), HTML(value='')))"
      ]
     },
     "metadata": {},
     "output_type": "display_data"
    },
    {
     "name": "stdout",
     "output_type": "stream",
     "text": [
      "\n",
      ">>> crawling successfully finishied\n",
      "Let me crawl 수특light(2016) menu of group373...\n"
     ]
    },
    {
     "ename": "KeyboardInterrupt",
     "evalue": "",
     "output_type": "error",
     "traceback": [
      "\u001b[1;31m---------------------------------------------------------------------------\u001b[0m",
      "\u001b[1;31mKeyboardInterrupt\u001b[0m                         Traceback (most recent call last)",
      "\u001b[1;32m<ipython-input-125-389cc03be230>\u001b[0m in \u001b[0;36m<module>\u001b[1;34m\u001b[0m\n\u001b[0;32m     40\u001b[0m     \u001b[0mdriver\u001b[0m\u001b[1;33m.\u001b[0m\u001b[0mfind_element_by_xpath\u001b[0m\u001b[1;33m(\u001b[0m\u001b[1;34m'//*[@id=\"listSizeSelectDiv\"]/a'\u001b[0m\u001b[1;33m)\u001b[0m\u001b[1;33m.\u001b[0m\u001b[0mclick\u001b[0m\u001b[1;33m(\u001b[0m\u001b[1;33m)\u001b[0m\u001b[1;33m\u001b[0m\u001b[1;33m\u001b[0m\u001b[0m\n\u001b[0;32m     41\u001b[0m     \u001b[0mdriver\u001b[0m\u001b[1;33m.\u001b[0m\u001b[0mfind_element_by_xpath\u001b[0m\u001b[1;33m(\u001b[0m\u001b[1;34m'//*[@id=\"listSizeSelectDiv\"]/ul/li[7]/a'\u001b[0m\u001b[1;33m)\u001b[0m\u001b[1;33m.\u001b[0m\u001b[0mclick\u001b[0m\u001b[1;33m(\u001b[0m\u001b[1;33m)\u001b[0m\u001b[1;33m\u001b[0m\u001b[1;33m\u001b[0m\u001b[0m\n\u001b[1;32m---> 42\u001b[1;33m     \u001b[0mtime\u001b[0m\u001b[1;33m.\u001b[0m\u001b[0msleep\u001b[0m\u001b[1;33m(\u001b[0m\u001b[1;36m1\u001b[0m\u001b[1;33m)\u001b[0m\u001b[1;33m\u001b[0m\u001b[1;33m\u001b[0m\u001b[0m\n\u001b[0m\u001b[0;32m     43\u001b[0m \u001b[1;33m\u001b[0m\u001b[0m\n\u001b[0;32m     44\u001b[0m     \u001b[1;32mif\u001b[0m \u001b[1;32mnot\u001b[0m \u001b[0mmenu_idx\u001b[0m\u001b[1;33m:\u001b[0m\u001b[1;33m\u001b[0m\u001b[1;33m\u001b[0m\u001b[0m\n",
      "\u001b[1;31mKeyboardInterrupt\u001b[0m: "
     ]
    }
   ],
   "source": [
    "def click_expand(group_id_str):\n",
    "    # (optional) click expand buttton\n",
    "    expand_btn = driver.find_element_by_xpath(f'//*[@id=\"{group_id_str}btn\"]')\n",
    "    if expand_btn.get_attribute('class') == 'down-btn':\n",
    "        expand_btn.click()\n",
    "        driver.implicitly_wait(3)\n",
    "        pass\n",
    "    pass\n",
    "\n",
    "def navigate_main(expand_flag=False, group_id_str=''):\n",
    "    driver.get('https://cafe.naver.com/mpihb')  # //cafe.naver.com/MyCafeIntro.nhn?clubid=23064234\n",
    "    driver.implicitly_wait(1)\n",
    "    \n",
    "    if expand_flag:\n",
    "        #  (optional) click expand buttton\n",
    "        click_expand(group_id_str)\n",
    "    pass\n",
    "\n",
    "\n",
    "\n",
    "group_id = \"group373\"\n",
    "navigate_main(expand_flag=False, group_id_str = group_id)\n",
    "\n",
    "iter_num = len( driver.find_elements_by_xpath(f'//*[@id=\"{group_id}\"]/li/a') )\n",
    "for menu_idx in range(iter_num):\n",
    "    \n",
    "    # refresh window\n",
    "    navigate_main(expand_flag=False, group_id_str = group_id)\n",
    "\n",
    "    # select menu\n",
    "    menu_list = driver.find_elements_by_xpath(f'//*[@id=\"{group_id}\"]/li/a')\n",
    "    menu_text = menu_list[menu_idx].text\n",
    "    menu_list[menu_idx].click()\n",
    "    driver.implicitly_wait(5)\n",
    "    print(f'Let me crawl {menu_text} menu of {group_id}...')\n",
    "\n",
    "\n",
    "    # view 50 items\n",
    "    driver.switch_to.frame('cafe_main')\n",
    "    driver.implicitly_wait(5)\n",
    "    driver.find_element_by_xpath('//*[@id=\"listSizeSelectDiv\"]/a').click()\n",
    "    driver.find_element_by_xpath('//*[@id=\"listSizeSelectDiv\"]/ul/li[7]/a').click()\n",
    "    time.sleep(1)\n",
    "\n",
    "    # crawl files of 50 items in each page\n",
    "    page_num = len(driver.find_elements_by_xpath('//*[@id=\"main-area\"]/div[6]/a'))\n",
    "    for page_idx in range(page_num):\n",
    "\n",
    "        page_list = driver.find_elements_by_xpath('//*[@id=\"main-area\"]/div[6]/a')\n",
    "        page_list[page_idx].click()\n",
    "        time.sleep(3)\n",
    "\n",
    "        article_num = len(driver.find_elements_by_xpath('//*[@id=\"main-area\"]/div[4]/table/tbody/tr'))\n",
    "        print(f'Start crawling {page_idx+1} page, {article_num} items')\n",
    "        for idx in tqdm.tqdm_notebook(range(article_num)):\n",
    "            article_list = driver.find_elements_by_xpath('//*[@id=\"main-area\"]/div[4]/table/tbody/tr')\n",
    "            time.sleep(1)\n",
    "            tmp_article = article_list[idx].find_element_by_tag_name('td').find_elements_by_tag_name('div')[2].find_element_by_tag_name('a')\n",
    "            tmp_article.click()\n",
    "            time.sleep(1)\n",
    "\n",
    "            try:\n",
    "                driver.find_element_by_xpath('//a[@class=\"atch_view m-tcol-c\"]').click()\n",
    "                btn_list = driver.find_elements_by_xpath('//div[@class=\"download_opt\"]/a[1]')\n",
    "                for btn_idx in range(len(btn_list)):\n",
    "                    driver.find_elements_by_xpath('//div[@class=\"download_opt\"]/a')[btn_idx].click()\n",
    "                    time.sleep(3)\n",
    "            except Exception as e:\n",
    "                print('>>> Error!!!!! :\\n',e)\n",
    "                winsound.Beep(2000, 1000)\n",
    "\n",
    "            driver.execute_script(\"window.history.go(-1)\")\n",
    "            time.sleep(3)\n",
    "\n",
    "    print('>>> crawling successfully finishied')\n",
    "    winsound.Beep(2000, 1000)"
   ]
  },
  {
   "cell_type": "markdown",
   "metadata": {},
   "source": [
    "## Crawling for only one menu"
   ]
  },
  {
   "cell_type": "code",
   "execution_count": 116,
   "metadata": {},
   "outputs": [
    {
     "name": "stdout",
     "output_type": "stream",
     "text": [
      "Let me crawl 19.EBS단기특강(유형독해)(정회원) menu of group373...\n"
     ]
    }
   ],
   "source": [
    "def click_expand(group_id_str):\n",
    "    # (optional) click expand buttton\n",
    "    expand_btn = driver.find_element_by_xpath(f'//*[@id=\"{group_id_str}btn\"]')\n",
    "    if expand_btn.get_attribute('class') == 'down-btn':\n",
    "        expand_btn.click()\n",
    "        driver.implicitly_wait(3)\n",
    "        pass\n",
    "    pass\n",
    "\n",
    "def navigate_main(expand_flag=False, group_id_str=''):\n",
    "    driver.get('https://cafe.naver.com/mpihb')  # //cafe.naver.com/MyCafeIntro.nhn?clubid=23064234\n",
    "    driver.implicitly_wait(1)\n",
    "    \n",
    "    if expand_flag:\n",
    "        #  (optional) click expand buttton\n",
    "        click_expand(group_id_str)\n",
    "    pass\n",
    "\n",
    "\n",
    "\n",
    "group_id = \"group373\"\n",
    "menu_idx = 1\n",
    "\n",
    "navigate_main(expand_flag=False, group_id_str = group_id)\n",
    "\n",
    "menu_list = driver.find_elements_by_xpath(f'//*[@id=\"{group_id}\"]/li')\n",
    "menu_text = menu_list[menu_idx].text\n",
    "menu_list[menu_idx].click()\n",
    "print(f'Let me crawl {menu_text} menu of {group_id}...')\n",
    "driver.implicitly_wait(5)\n",
    "\n",
    "\n",
    "# view 50 items\n",
    "driver.switch_to.frame('cafe_main')\n",
    "driver.implicitly_wait(5)\n",
    "time.sleep(1)\n",
    "driver.find_element_by_xpath('//*[@id=\"listSizeSelectDiv\"]/a').click()\n",
    "driver.find_element_by_xpath('//*[@id=\"listSizeSelectDiv\"]/ul/li[7]/a').click()\n",
    "time.sleep(1)\n",
    "\n",
    "\n",
    "# crawl files of 50 items in each page\n",
    "page_num = len(driver.find_elements_by_xpath('//*[@id=\"main-area\"]/div[6]/a'))\n",
    "for page_idx in range(page_num):\n",
    "\n",
    "    page_list = driver.find_elements_by_xpath('//*[@id=\"main-area\"]/div[6]/a')\n",
    "    page_list[page_idx].click()\n",
    "    time.sleep(3)\n",
    "\n",
    "    article_num = len(driver.find_elements_by_xpath('//*[@id=\"main-area\"]/div[4]/table/tbody/tr'))\n",
    "    print(f'Start crawling {page_idx+1} page, {article_num} items')\n",
    "    for idx in tqdm.tqdm_notebook(range(article_num)):\n",
    "        article_list = driver.find_elements_by_xpath('//*[@id=\"main-area\"]/div[4]/table/tbody/tr')\n",
    "        time.sleep(1)\n",
    "        tmp_article = article_list[idx].find_element_by_tag_name('td').find_elements_by_tag_name('div')[2].find_element_by_tag_name('a')\n",
    "        tmp_article.click()\n",
    "        time.sleep(1)\n",
    "\n",
    "        try:\n",
    "            driver.find_element_by_xpath('//a[@class=\"atch_view m-tcol-c\"]').click()\n",
    "            btn_list = driver.find_elements_by_xpath('//div[@class=\"download_opt\"]/a[1]')\n",
    "            for btn_idx in range(len(btn_list)):\n",
    "                driver.find_elements_by_xpath('//div[@class=\"download_opt\"]/a')[btn_idx].click()\n",
    "                time.sleep(3)\n",
    "        except Exception as e:\n",
    "            print('>>> Error!!!!! :\\n',e)\n",
    "            winsound.Beep(2000, 1000)\n",
    "\n",
    "        driver.execute_script(\"window.history.go(-1)\")\n",
    "        time.sleep(3)\n",
    "\n",
    "print('>>> crawling successfully finishied')\n",
    "winsound.Beep(2000, 1000)"
   ]
  },
  {
   "cell_type": "markdown",
   "metadata": {},
   "source": [
    "## Another Version (moving to next article directly)\n",
    "\n",
    "- not good for Debugging"
   ]
  },
  {
   "cell_type": "code",
   "execution_count": 102,
   "metadata": {},
   "outputs": [
    {
     "ename": "KeyboardInterrupt",
     "evalue": "",
     "output_type": "error",
     "traceback": [
      "\u001b[1;31m---------------------------------------------------------------------------\u001b[0m",
      "\u001b[1;31mKeyboardInterrupt\u001b[0m                         Traceback (most recent call last)",
      "\u001b[1;32m<ipython-input-102-a0f0bd8168a9>\u001b[0m in \u001b[0;36m<module>\u001b[1;34m\u001b[0m\n\u001b[0;32m     16\u001b[0m     \u001b[0marticle_cnt\u001b[0m \u001b[1;33m+=\u001b[0m \u001b[1;36m1\u001b[0m\u001b[1;33m\u001b[0m\u001b[1;33m\u001b[0m\u001b[0m\n\u001b[0;32m     17\u001b[0m \u001b[1;33m\u001b[0m\u001b[0m\n\u001b[1;32m---> 18\u001b[1;33m     \u001b[1;32mif\u001b[0m \u001b[0marticle_cnt\u001b[0m \u001b[1;32mnot\u001b[0m \u001b[1;32min\u001b[0m \u001b[1;33m(\u001b[0m\u001b[1;36m20\u001b[0m\u001b[1;33m-\u001b[0m\u001b[1;36m1\u001b[0m\u001b[1;33m,\u001b[0m \u001b[1;36m28\u001b[0m\u001b[1;33m-\u001b[0m\u001b[1;36m1\u001b[0m\u001b[1;33m,\u001b[0m \u001b[1;36m32\u001b[0m\u001b[1;33m-\u001b[0m\u001b[1;36m1\u001b[0m\u001b[1;33m,\u001b[0m \u001b[1;36m35\u001b[0m\u001b[1;33m-\u001b[0m\u001b[1;36m1\u001b[0m\u001b[1;33m,\u001b[0m \u001b[1;36m39\u001b[0m\u001b[1;33m-\u001b[0m\u001b[1;36m1\u001b[0m\u001b[1;33m,\u001b[0m \u001b[1;36m40\u001b[0m\u001b[1;33m-\u001b[0m\u001b[1;36m1\u001b[0m\u001b[1;33m,\u001b[0m \u001b[1;36m45\u001b[0m\u001b[1;33m-\u001b[0m\u001b[1;36m1\u001b[0m\u001b[1;33m)\u001b[0m\u001b[1;33m:\u001b[0m\u001b[1;33m\u001b[0m\u001b[1;33m\u001b[0m\u001b[0m\n\u001b[0m\u001b[0;32m     19\u001b[0m         \u001b[1;32mcontinue\u001b[0m\u001b[1;33m\u001b[0m\u001b[1;33m\u001b[0m\u001b[0m\n\u001b[0;32m     20\u001b[0m \u001b[1;33m\u001b[0m\u001b[0m\n",
      "\u001b[1;31mKeyboardInterrupt\u001b[0m: "
     ]
    }
   ],
   "source": [
    "driver.get('https://cafe.naver.com/mpihb')  # //cafe.naver.com/MyCafeIntro.nhn?clubid=23064234\n",
    "driver.implicitly_wait(1)\n",
    "\n",
    "menu_list = driver.find_elements_by_xpath('//*[@id=\"group372\"]/li')  # list with 3 items  # manually changed line\n",
    "menu_list[2].click()  # manually changed line\n",
    "driver.implicitly_wait(5)\n",
    "\n",
    "driver.switch_to.frame('cafe_main')\n",
    "driver.implicitly_wait(5)\n",
    "\n",
    "driver.find_element_by_xpath('//*[@id=\"main-area\"]/div[4]/table/tbody/tr[1]/td[1]/div[2]/div/a').click()\n",
    "driver.implicitly_wait(5)\n",
    "\n",
    "article_cnt = 0\n",
    "while True:\n",
    "    article_cnt += 1\n",
    "    \n",
    "#     if article_cnt not in (20-1, 28-1, 32-1, 35-1, 39-1, 40-1, 45-1):\n",
    "#         continue\n",
    "    \n",
    "    try:\n",
    "        driver.find_element_by_xpath('//a[@class=\"atch_view m-tcol-c\"]').click()\n",
    "        btn_list = driver.find_elements_by_xpath('//div[@class=\"download_opt\"]/a[1]')\n",
    "        for btn_idx in range(len(btn_list)):\n",
    "            driver.find_elements_by_xpath('//div[@class=\"download_opt\"]/a')[btn_idx].click()\n",
    "            time.sleep(3)\n",
    "    except Exception as e:\n",
    "        print(f'>>> Error in article # {article_cnt}!!!!! :\\n',e)\n",
    "    \n",
    "    \n",
    "    try:\n",
    "        next_btn = driver.find_element_by_xpath('//*[@id=\"main-area\"]/div[1]/div[1]/div[2]/p/a')\n",
    "        next_btn.click()\n",
    "        driver.implicitly_wait(5)\n",
    "    except:\n",
    "        try:\n",
    "            time.sleep(1)\n",
    "            next_btn = driver.find_element_by_xpath('//*[@id=\"main-area\"]/div[1]/div[1]/div[2]/p/a')\n",
    "            next_btn.click()\n",
    "            driver.implicitly_wait(5)\n",
    "        except Exception as e:\n",
    "            print(f'>>> crawling may be successfully finishied at article # {article_cnt}')\n",
    "            break\n",
    "    \n",
    "    if article_cnt%20 == 0:\n",
    "        print(f'>>> successfully crawled article # {article_cnt}')    \n",
    "    \n",
    "#     if article_cnt > 50:\n",
    "#         break\n",
    "    \n",
    "    time.sleep(1)\n",
    "    pass"
   ]
  }
 ],
 "metadata": {
  "kernelspec": {
   "display_name": "Python 3",
   "language": "python",
   "name": "python3"
  },
  "language_info": {
   "codemirror_mode": {
    "name": "ipython",
    "version": 3
   },
   "file_extension": ".py",
   "mimetype": "text/x-python",
   "name": "python",
   "nbconvert_exporter": "python",
   "pygments_lexer": "ipython3",
   "version": "3.7.4"
  }
 },
 "nbformat": 4,
 "nbformat_minor": 2
}
