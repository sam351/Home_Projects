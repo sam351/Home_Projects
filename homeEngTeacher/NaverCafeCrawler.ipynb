{
 "cells": [
  {
   "cell_type": "code",
   "execution_count": 66,
   "metadata": {},
   "outputs": [],
   "source": [
    "from selenium import webdriver\n",
    "import time\n",
    "import tqdm\n",
    "import pandas as pd\n",
    "import glob as gb"
   ]
  },
  {
   "cell_type": "code",
   "execution_count": 2,
   "metadata": {},
   "outputs": [],
   "source": [
    "# generate Webdriver object - Chrome version 79.0.3945.130 (64 bit)\n",
    "driver = webdriver.Chrome('driver/chromedriver.exe')\n",
    "driver.get('https://nid.naver.com/nidlogin.login')"
   ]
  },
  {
   "cell_type": "markdown",
   "metadata": {},
   "source": [
    "## <<< Login manually at this step >>>"
   ]
  },
  {
   "cell_type": "markdown",
   "metadata": {},
   "source": [
    "## (manually executed below cells, according to menus) - to separate directories"
   ]
  },
  {
   "cell_type": "code",
   "execution_count": 67,
   "metadata": {},
   "outputs": [],
   "source": [
    "driver.get('https://cafe.naver.com/mpihb')  # //cafe.naver.com/MyCafeIntro.nhn?clubid=23064234\n",
    "driver.implicitly_wait(1)\n",
    "\n",
    "group_id = \"group652\"\n",
    "\n",
    "# click btn if necessary\n",
    "expand_btn = driver.find_element_by_xpath(f'//*[@id=\"{group_id}btn\"]')\n",
    "if expand_btn.get_attribute('class') == 'down-btn':\n",
    "    expand_btn.click()\n",
    "    driver.implicitly_wait(3)\n",
    "\n",
    "menu_list = driver.find_elements_by_xpath(f'//*[@id=\"{group_id}\"]/li')  # list with 3 items  # manually changed line\n",
    "menu_list[-1].click()  # manually changed line\n",
    "driver.implicitly_wait(5)"
   ]
  },
  {
   "cell_type": "code",
   "execution_count": 68,
   "metadata": {},
   "outputs": [],
   "source": [
    "driver.switch_to.frame('cafe_main')\n",
    "driver.implicitly_wait(5)\n",
    "driver.find_element_by_xpath('//*[@id=\"listSizeSelectDiv\"]/a').click()\n",
    "driver.find_element_by_xpath('//*[@id=\"listSizeSelectDiv\"]/ul/li[7]/a').click()\n",
    "time.sleep(1)"
   ]
  },
  {
   "cell_type": "code",
   "execution_count": 69,
   "metadata": {},
   "outputs": [
    {
     "name": "stdout",
     "output_type": "stream",
     "text": [
      "Start crawling 1 page, 25 items\n"
     ]
    },
    {
     "data": {
      "application/vnd.jupyter.widget-view+json": {
       "model_id": "f8d46e734c624333b7b8cfba2c643e43",
       "version_major": 2,
       "version_minor": 0
      },
      "text/plain": [
       "HBox(children=(FloatProgress(value=0.0, max=25.0), HTML(value='')))"
      ]
     },
     "metadata": {},
     "output_type": "display_data"
    },
    {
     "name": "stdout",
     "output_type": "stream",
     "text": [
      "\n",
      ">>> crawling successfully finishied\n"
     ]
    }
   ],
   "source": [
    "page_num = len(driver.find_elements_by_xpath('//*[@id=\"main-area\"]/div[6]/a'))\n",
    "for page_idx in range(page_num):\n",
    "    \n",
    "    page_list = driver.find_elements_by_xpath('//*[@id=\"main-area\"]/div[6]/a')\n",
    "    page_list[page_idx].click()\n",
    "    time.sleep(1)\n",
    "\n",
    "    article_num = len(driver.find_elements_by_xpath('//*[@id=\"main-area\"]/div[4]/table/tbody/tr'))\n",
    "    print(f'Start crawling {page_idx+1} page, {article_num} items')\n",
    "    for idx in tqdm.notebook.tqdm(range(article_num)):\n",
    "        article_list = driver.find_elements_by_xpath('//*[@id=\"main-area\"]/div[4]/table/tbody/tr')\n",
    "        time.sleep(1)\n",
    "        tmp_article = article_list[idx].find_element_by_tag_name('td').find_elements_by_tag_name('div')[2].find_element_by_tag_name('a')\n",
    "        tmp_article.click()\n",
    "        time.sleep(1)\n",
    "\n",
    "        try:\n",
    "            driver.find_element_by_xpath('//a[@class=\"atch_view m-tcol-c\"]').click()\n",
    "            btn_list = driver.find_elements_by_xpath('//div[@class=\"download_opt\"]/a[1]')\n",
    "            for btn_idx in range(len(btn_list)):\n",
    "                driver.find_elements_by_xpath('//div[@class=\"download_opt\"]/a')[btn_idx].click()\n",
    "                time.sleep(3)\n",
    "        except Exception as e:\n",
    "            print('>>> Error!!!!! :\\n',e)            \n",
    "\n",
    "        driver.execute_script(\"window.history.go(-1)\")\n",
    "        time.sleep(3)\n",
    "\n",
    "print('>>> crawling successfully finishied')"
   ]
  },
  {
   "cell_type": "markdown",
   "metadata": {},
   "source": [
    "## Another Version (moving to next article directly)\n",
    "\n",
    "- not good for Debugging"
   ]
  },
  {
   "cell_type": "code",
   "execution_count": 102,
   "metadata": {},
   "outputs": [
    {
     "ename": "KeyboardInterrupt",
     "evalue": "",
     "output_type": "error",
     "traceback": [
      "\u001b[1;31m---------------------------------------------------------------------------\u001b[0m",
      "\u001b[1;31mKeyboardInterrupt\u001b[0m                         Traceback (most recent call last)",
      "\u001b[1;32m<ipython-input-102-a0f0bd8168a9>\u001b[0m in \u001b[0;36m<module>\u001b[1;34m\u001b[0m\n\u001b[0;32m     16\u001b[0m     \u001b[0marticle_cnt\u001b[0m \u001b[1;33m+=\u001b[0m \u001b[1;36m1\u001b[0m\u001b[1;33m\u001b[0m\u001b[1;33m\u001b[0m\u001b[0m\n\u001b[0;32m     17\u001b[0m \u001b[1;33m\u001b[0m\u001b[0m\n\u001b[1;32m---> 18\u001b[1;33m     \u001b[1;32mif\u001b[0m \u001b[0marticle_cnt\u001b[0m \u001b[1;32mnot\u001b[0m \u001b[1;32min\u001b[0m \u001b[1;33m(\u001b[0m\u001b[1;36m20\u001b[0m\u001b[1;33m-\u001b[0m\u001b[1;36m1\u001b[0m\u001b[1;33m,\u001b[0m \u001b[1;36m28\u001b[0m\u001b[1;33m-\u001b[0m\u001b[1;36m1\u001b[0m\u001b[1;33m,\u001b[0m \u001b[1;36m32\u001b[0m\u001b[1;33m-\u001b[0m\u001b[1;36m1\u001b[0m\u001b[1;33m,\u001b[0m \u001b[1;36m35\u001b[0m\u001b[1;33m-\u001b[0m\u001b[1;36m1\u001b[0m\u001b[1;33m,\u001b[0m \u001b[1;36m39\u001b[0m\u001b[1;33m-\u001b[0m\u001b[1;36m1\u001b[0m\u001b[1;33m,\u001b[0m \u001b[1;36m40\u001b[0m\u001b[1;33m-\u001b[0m\u001b[1;36m1\u001b[0m\u001b[1;33m,\u001b[0m \u001b[1;36m45\u001b[0m\u001b[1;33m-\u001b[0m\u001b[1;36m1\u001b[0m\u001b[1;33m)\u001b[0m\u001b[1;33m:\u001b[0m\u001b[1;33m\u001b[0m\u001b[1;33m\u001b[0m\u001b[0m\n\u001b[0m\u001b[0;32m     19\u001b[0m         \u001b[1;32mcontinue\u001b[0m\u001b[1;33m\u001b[0m\u001b[1;33m\u001b[0m\u001b[0m\n\u001b[0;32m     20\u001b[0m \u001b[1;33m\u001b[0m\u001b[0m\n",
      "\u001b[1;31mKeyboardInterrupt\u001b[0m: "
     ]
    }
   ],
   "source": [
    "driver.get('https://cafe.naver.com/mpihb')  # //cafe.naver.com/MyCafeIntro.nhn?clubid=23064234\n",
    "driver.implicitly_wait(1)\n",
    "\n",
    "menu_list = driver.find_elements_by_xpath('//*[@id=\"group372\"]/li')  # list with 3 items  # manually changed line\n",
    "menu_list[2].click()  # manually changed line\n",
    "driver.implicitly_wait(5)\n",
    "\n",
    "driver.switch_to.frame('cafe_main')\n",
    "driver.implicitly_wait(5)\n",
    "\n",
    "driver.find_element_by_xpath('//*[@id=\"main-area\"]/div[4]/table/tbody/tr[1]/td[1]/div[2]/div/a').click()\n",
    "driver.implicitly_wait(5)\n",
    "\n",
    "article_cnt = 0\n",
    "while True:\n",
    "    article_cnt += 1\n",
    "    \n",
    "#     if article_cnt not in (20-1, 28-1, 32-1, 35-1, 39-1, 40-1, 45-1):\n",
    "#         continue\n",
    "    \n",
    "    try:\n",
    "        driver.find_element_by_xpath('//a[@class=\"atch_view m-tcol-c\"]').click()\n",
    "        btn_list = driver.find_elements_by_xpath('//div[@class=\"download_opt\"]/a[1]')\n",
    "        for btn_idx in range(len(btn_list)):\n",
    "            driver.find_elements_by_xpath('//div[@class=\"download_opt\"]/a')[btn_idx].click()\n",
    "            time.sleep(3)\n",
    "    except Exception as e:\n",
    "        print(f'>>> Error in article # {article_cnt}!!!!! :\\n',e)\n",
    "    \n",
    "    \n",
    "    try:\n",
    "        next_btn = driver.find_element_by_xpath('//*[@id=\"main-area\"]/div[1]/div[1]/div[2]/p/a')\n",
    "        next_btn.click()\n",
    "        driver.implicitly_wait(5)\n",
    "    except:\n",
    "        try:\n",
    "            time.sleep(1)\n",
    "            next_btn = driver.find_element_by_xpath('//*[@id=\"main-area\"]/div[1]/div[1]/div[2]/p/a')\n",
    "            next_btn.click()\n",
    "            driver.implicitly_wait(5)\n",
    "        except Exception as e:\n",
    "            print(f'>>> crawling may be successfully finishied at article # {article_cnt}')\n",
    "            break\n",
    "    \n",
    "    if article_cnt%20 == 0:\n",
    "        print(f'>>> successfully crawled article # {article_cnt}')    \n",
    "    \n",
    "#     if article_cnt > 50:\n",
    "#         break\n",
    "    \n",
    "    time.sleep(1)\n",
    "    pass"
   ]
  }
 ],
 "metadata": {
  "kernelspec": {
   "display_name": "Python 3",
   "language": "python",
   "name": "python3"
  },
  "language_info": {
   "codemirror_mode": {
    "name": "ipython",
    "version": 3
   },
   "file_extension": ".py",
   "mimetype": "text/x-python",
   "name": "python",
   "nbconvert_exporter": "python",
   "pygments_lexer": "ipython3",
   "version": "3.7.4"
  }
 },
 "nbformat": 4,
 "nbformat_minor": 2
}
