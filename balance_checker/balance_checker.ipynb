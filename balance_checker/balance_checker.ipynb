{
 "cells": [
  {
   "cell_type": "code",
   "execution_count": 1,
   "metadata": {},
   "outputs": [],
   "source": [
    "import pandas as pd\n",
    "import numpy as np"
   ]
  },
  {
   "cell_type": "code",
   "execution_count": 2,
   "metadata": {
    "scrolled": true
   },
   "outputs": [
    {
     "data": {
      "text/html": [
       "<div>\n",
       "<style scoped>\n",
       "    .dataframe tbody tr th:only-of-type {\n",
       "        vertical-align: middle;\n",
       "    }\n",
       "\n",
       "    .dataframe tbody tr th {\n",
       "        vertical-align: top;\n",
       "    }\n",
       "\n",
       "    .dataframe thead th {\n",
       "        text-align: right;\n",
       "    }\n",
       "</style>\n",
       "<table border=\"1\" class=\"dataframe\">\n",
       "  <thead>\n",
       "    <tr style=\"text-align: right;\">\n",
       "      <th></th>\n",
       "      <th>수입금액</th>\n",
       "      <th>지출금액</th>\n",
       "    </tr>\n",
       "  </thead>\n",
       "  <tbody>\n",
       "    <tr>\n",
       "      <th>2019-12-31</th>\n",
       "      <td>0</td>\n",
       "      <td>218030</td>\n",
       "    </tr>\n",
       "    <tr>\n",
       "      <th>2019-12-30</th>\n",
       "      <td>360000</td>\n",
       "      <td>0</td>\n",
       "    </tr>\n",
       "    <tr>\n",
       "      <th>2019-12-29</th>\n",
       "      <td>111</td>\n",
       "      <td>0</td>\n",
       "    </tr>\n",
       "    <tr>\n",
       "      <th>2019-12-29</th>\n",
       "      <td>0</td>\n",
       "      <td>10</td>\n",
       "    </tr>\n",
       "    <tr>\n",
       "      <th>2019-12-24</th>\n",
       "      <td>0</td>\n",
       "      <td>42500</td>\n",
       "    </tr>\n",
       "  </tbody>\n",
       "</table>\n",
       "</div>"
      ],
      "text/plain": [
       "              수입금액    지출금액\n",
       "2019-12-31       0  218030\n",
       "2019-12-30  360000       0\n",
       "2019-12-29     111       0\n",
       "2019-12-29       0      10\n",
       "2019-12-24       0   42500"
      ]
     },
     "execution_count": 2,
     "metadata": {},
     "output_type": "execute_result"
    }
   ],
   "source": [
    "# 1. preprocessing report statement xlsx\n",
    "system_df = pd.read_excel('./결의서전표.xlsx')\n",
    "system_df = system_df.iloc[ :-1][['결의일자-번호','수입금액','지출금액']]\n",
    "system_df['결의일자'] = [ string[:-2] for string in system_df['결의일자-번호'] ]\n",
    "system_df = system_df.drop('결의일자-번호', axis=1)\n",
    "system_df = system_df.set_index('결의일자')\n",
    "system_df.index = pd.to_datetime(system_df.index).date\n",
    "\n",
    "system_df.head()"
   ]
  },
  {
   "cell_type": "code",
   "execution_count": 3,
   "metadata": {
    "scrolled": true
   },
   "outputs": [
    {
     "data": {
      "text/html": [
       "<div>\n",
       "<style scoped>\n",
       "    .dataframe tbody tr th:only-of-type {\n",
       "        vertical-align: middle;\n",
       "    }\n",
       "\n",
       "    .dataframe tbody tr th {\n",
       "        vertical-align: top;\n",
       "    }\n",
       "\n",
       "    .dataframe thead th {\n",
       "        text-align: right;\n",
       "    }\n",
       "</style>\n",
       "<table border=\"1\" class=\"dataframe\">\n",
       "  <thead>\n",
       "    <tr style=\"text-align: right;\">\n",
       "      <th></th>\n",
       "      <th>입금금액(원)</th>\n",
       "      <th>출금금액(원)</th>\n",
       "    </tr>\n",
       "  </thead>\n",
       "  <tbody>\n",
       "    <tr>\n",
       "      <th>2019-01-02</th>\n",
       "      <td>100000</td>\n",
       "      <td>0</td>\n",
       "    </tr>\n",
       "    <tr>\n",
       "      <th>2019-01-04</th>\n",
       "      <td>100000</td>\n",
       "      <td>0</td>\n",
       "    </tr>\n",
       "    <tr>\n",
       "      <th>2019-01-12</th>\n",
       "      <td>0</td>\n",
       "      <td>565600</td>\n",
       "    </tr>\n",
       "    <tr>\n",
       "      <th>2019-01-23</th>\n",
       "      <td>0</td>\n",
       "      <td>380500</td>\n",
       "    </tr>\n",
       "    <tr>\n",
       "      <th>2019-02-07</th>\n",
       "      <td>100000</td>\n",
       "      <td>0</td>\n",
       "    </tr>\n",
       "  </tbody>\n",
       "</table>\n",
       "</div>"
      ],
      "text/plain": [
       "            입금금액(원)  출금금액(원)\n",
       "2019-01-02   100000        0\n",
       "2019-01-04   100000        0\n",
       "2019-01-12        0   565600\n",
       "2019-01-23        0   380500\n",
       "2019-02-07   100000        0"
      ]
     },
     "execution_count": 3,
     "metadata": {},
     "output_type": "execute_result"
    }
   ],
   "source": [
    "# 2. preprocessing account xls\n",
    "account_df = pd.read_excel('./통장거래내역.xls', skiprows = 9)[['거래일자','입금금액(원)','출금금액(원)']]\n",
    "account_df = account_df.set_index('거래일자').fillna(0).astype(int)\n",
    "\n",
    "account_df.index = pd.to_datetime(account_df.index).date\n",
    "\n",
    "account_df.head()"
   ]
  },
  {
   "cell_type": "code",
   "execution_count": 4,
   "metadata": {},
   "outputs": [
    {
     "name": "stdout",
     "output_type": "stream",
     "text": [
      "<<<<<<< 전표 점검을 시작합니다 >>>>>>>\n",
      "\n",
      "1. 수입/지출 총액 비교\n",
      "\n",
      "(1) 결의서전표 수입총액 : 5745237원, 통장거래내역 입금총액 : 5920237원\n",
      ">>> 경고!!! 수입총액이 다릅니다!\n",
      "\n",
      "(2) 결의서전표 지출총액 : 6215528원, 통장거래내역 출금총액 : 6215528원\n",
      ">>> 지출총액은 정상입니다.\n",
      "\n",
      "======================================================================\n",
      "\n"
     ]
    }
   ],
   "source": [
    "# 3. comparing total amount of income & spending\n",
    "print('<<<<<<< 전표 점검을 시작합니다 >>>>>>>\\n')\n",
    "\n",
    "print('1. 수입/지출 총액 비교\\n')\n",
    "\n",
    "system_income = sum(system_df.수입금액)\n",
    "account_income = sum(account_df[\"입금금액(원)\"])\n",
    "print(f'(1) 결의서전표 수입총액 : { system_income }원, 통장거래내역 입금총액 : { account_income }원')\n",
    "print('>>> 수입총액은 정상입니다.\\n') if system_income == account_income else print('>>> 경고!!! 수입총액이 다릅니다!\\n')\n",
    "\n",
    "system_spending = sum(system_df.지출금액)\n",
    "account_spending = sum(account_df['출금금액(원)'])\n",
    "print(f'(2) 결의서전표 지출총액 : { system_spending }원, 통장거래내역 출금총액 : { account_spending }원')\n",
    "print('>>> 지출총액은 정상입니다.\\n') if system_spending == account_spending else print('>>> 경고!!! 지출총액이 다릅니다!\\n')\n",
    "\n",
    "print('='*70, end='\\n'*2)"
   ]
  },
  {
   "cell_type": "code",
   "execution_count": 5,
   "metadata": {
    "scrolled": true
   },
   "outputs": [],
   "source": [
    "# 4. migrating rows with same date - calcaulating total amount of each date\n",
    "system_df_groupby = system_df.groupby(system_df.index)[['수입금액','지출금액']].sum()\n",
    "# system_df_groupby\n",
    "\n",
    "account_df_groupby = account_df.groupby(account_df.index)[['입금금액(원)','출금금액(원)']].sum()\n",
    "# account_df_groupby"
   ]
  },
  {
   "cell_type": "code",
   "execution_count": 6,
   "metadata": {
    "scrolled": true
   },
   "outputs": [
    {
     "data": {
      "text/html": [
       "<div>\n",
       "<style scoped>\n",
       "    .dataframe tbody tr th:only-of-type {\n",
       "        vertical-align: middle;\n",
       "    }\n",
       "\n",
       "    .dataframe tbody tr th {\n",
       "        vertical-align: top;\n",
       "    }\n",
       "\n",
       "    .dataframe thead th {\n",
       "        text-align: right;\n",
       "    }\n",
       "</style>\n",
       "<table border=\"1\" class=\"dataframe\">\n",
       "  <thead>\n",
       "    <tr style=\"text-align: right;\">\n",
       "      <th></th>\n",
       "      <th>수입금액</th>\n",
       "      <th>지출금액</th>\n",
       "      <th>입금금액(원)</th>\n",
       "      <th>출금금액(원)</th>\n",
       "    </tr>\n",
       "    <tr>\n",
       "      <th>날짜</th>\n",
       "      <th></th>\n",
       "      <th></th>\n",
       "      <th></th>\n",
       "      <th></th>\n",
       "    </tr>\n",
       "  </thead>\n",
       "  <tbody>\n",
       "    <tr>\n",
       "      <th>2019-01-04</th>\n",
       "      <td>100000</td>\n",
       "      <td>0</td>\n",
       "      <td>100000</td>\n",
       "      <td>0</td>\n",
       "    </tr>\n",
       "    <tr>\n",
       "      <th>2019-01-12</th>\n",
       "      <td>0</td>\n",
       "      <td>565600</td>\n",
       "      <td>0</td>\n",
       "      <td>565600</td>\n",
       "    </tr>\n",
       "    <tr>\n",
       "      <th>2019-01-23</th>\n",
       "      <td>0</td>\n",
       "      <td>380500</td>\n",
       "      <td>0</td>\n",
       "      <td>380500</td>\n",
       "    </tr>\n",
       "    <tr>\n",
       "      <th>2019-02-07</th>\n",
       "      <td>200000</td>\n",
       "      <td>0</td>\n",
       "      <td>200000</td>\n",
       "      <td>0</td>\n",
       "    </tr>\n",
       "    <tr>\n",
       "      <th>2019-02-25</th>\n",
       "      <td>100000</td>\n",
       "      <td>0</td>\n",
       "      <td>100000</td>\n",
       "      <td>0</td>\n",
       "    </tr>\n",
       "  </tbody>\n",
       "</table>\n",
       "</div>"
      ],
      "text/plain": [
       "              수입금액    지출금액  입금금액(원)  출금금액(원)\n",
       "날짜                                          \n",
       "2019-01-04  100000       0   100000        0\n",
       "2019-01-12       0  565600        0   565600\n",
       "2019-01-23       0  380500        0   380500\n",
       "2019-02-07  200000       0   200000        0\n",
       "2019-02-25  100000       0   100000        0"
      ]
     },
     "execution_count": 6,
     "metadata": {},
     "output_type": "execute_result"
    }
   ],
   "source": [
    "# 5. merging two df\n",
    "merge_df = system_df_groupby.merge(account_df_groupby, how='outer',left_on=system_df_groupby.index, right_on=account_df_groupby.index)\n",
    "merge_df = merge_df.rename(columns={'key_0':'날짜'}).set_index('날짜')\n",
    "merge_df = merge_df.fillna(0).astype(int)\n",
    "merge_df.head()"
   ]
  },
  {
   "cell_type": "code",
   "execution_count": 7,
   "metadata": {
    "scrolled": false
   },
   "outputs": [
    {
     "name": "stdout",
     "output_type": "stream",
     "text": [
      "2. 수입결의서 날짜별 총액 비교\n",
      "\n",
      ">>> 경고!!! [수입 결의서] 문제가 발견되었습니다!\n",
      "\n",
      "(1) 2019-07-26 날짜 : [수입 결의서] 25000원 → [통장 거래내역] 100000원입니다.\n",
      "\n",
      "(2) 2019-01-02 날짜 : [수입 결의서] 0원 → [통장 거래내역] 100000원입니다.\n",
      "\n",
      "======================================================================\n",
      "\n",
      "3. 지출결의서 날짜별 총액 비교\n",
      "\n",
      ">>> [지출 결의서] 정상입니다.\n",
      "\n",
      "======================================================================\n",
      "\n"
     ]
    }
   ],
   "source": [
    "# 6. comparing incomes of each date\n",
    "print('2. 수입결의서 날짜별 총액 비교\\n')\n",
    "unmatch_income = [ (idx, item1, item2) for (idx, item1, item2) \n",
    "     in zip(merge_df.index, merge_df['수입금액'], merge_df['입금금액(원)'])\n",
    "     if item1 != item2 ]\n",
    "\n",
    "if not unmatch_income:\n",
    "    print('>>> [수입 결의서] 정상입니다.\\n')\n",
    "else:\n",
    "    print('>>> 경고!!! [수입 결의서] 문제가 발견되었습니다!\\n')\n",
    "    for idx, line in enumerate(unmatch_income):\n",
    "        print(f'({idx+1}) {line[0]} 날짜 : [수입 결의서] {line[1]}원 → [통장 거래내역] {line[2]}원입니다.\\n')\n",
    "        pass\n",
    "    pass\n",
    "\n",
    "print('='*70, end='\\n'*2)\n",
    "\n",
    "# 7. comparing spendings of each date\n",
    "print('3. 지출결의서 날짜별 총액 비교\\n')\n",
    "unmatch_cost = [ (idx, item1, item2) for (idx, item1, item2) \n",
    "     in zip(merge_df.index, merge_df['지출금액'], merge_df['출금금액(원)'])\n",
    "     if item1 != item2 ]\n",
    "\n",
    "if not unmatch_cost:\n",
    "    print('>>> [지출 결의서] 정상입니다.\\n')\n",
    "else:\n",
    "    print('>>> 경고!!! [지출 결의서] 문제가 발견되었습니다!\\n')\n",
    "    for idx, line in enumerate(unmatch_cost):\n",
    "        print(f'({idx+1}) [지출 결의서] {line[0]} 날짜에 {line[1]}원으로 입력된 부분은 통장 거래내역에 {line[2]}원입니다.\\n')\n",
    "        pass\n",
    "    pass\n",
    "\n",
    "print('='*70, end='\\n'*2)"
   ]
  },
  {
   "cell_type": "code",
   "execution_count": 8,
   "metadata": {},
   "outputs": [
    {
     "name": "stdout",
     "output_type": "stream",
     "text": [
      "종료하시려면 아무 키나 입력하세요 >>> \n"
     ]
    }
   ],
   "source": [
    "end_input = input('종료하시려면 아무 키나 입력하세요 >>> ')"
   ]
  }
 ],
 "metadata": {
  "kernelspec": {
   "display_name": "Python 3",
   "language": "python",
   "name": "python3"
  },
  "language_info": {
   "codemirror_mode": {
    "name": "ipython",
    "version": 3
   },
   "file_extension": ".py",
   "mimetype": "text/x-python",
   "name": "python",
   "nbconvert_exporter": "python",
   "pygments_lexer": "ipython3",
   "version": "3.7.3"
  }
 },
 "nbformat": 4,
 "nbformat_minor": 2
}
