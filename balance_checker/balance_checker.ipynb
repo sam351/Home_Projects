{
 "cells": [
  {
   "cell_type": "code",
   "execution_count": 1,
   "metadata": {},
   "outputs": [],
   "source": [
    "import pandas as pd\n",
    "import numpy as np"
   ]
  },
  {
   "cell_type": "code",
   "execution_count": 2,
   "metadata": {
    "scrolled": true
   },
   "outputs": [],
   "source": [
    "# 1. preprocessing report statement xlsx\n",
    "system_df = pd.read_excel('./결의서전표.xlsx')\n",
    "system_df = system_df.iloc[ :-1][['결의일자-번호','수입금액','지출금액']]\n",
    "system_df['결의일자'] = [ string[:-2] for string in system_df['결의일자-번호'] ]\n",
    "system_df = system_df.drop('결의일자-번호', axis=1)\n",
    "system_df = system_df.set_index('결의일자')\n",
    "# system_df"
   ]
  },
  {
   "cell_type": "code",
   "execution_count": 3,
   "metadata": {
    "scrolled": true
   },
   "outputs": [],
   "source": [
    "# 2. preprocessing account xls\n",
    "account_df = pd.read_excel('./통장거래내역.xls', skiprows = 9)[['거래일자','입금금액(원)','출금금액(원)']]\n",
    "account_df = account_df.set_index('거래일자').fillna(0).astype(int)\n",
    "# account_df"
   ]
  },
  {
   "cell_type": "code",
   "execution_count": 4,
   "metadata": {},
   "outputs": [
    {
     "name": "stdout",
     "output_type": "stream",
     "text": [
      "<<<<<<< 전표 점검을 시작합니다 >>>>>>>\n",
      "\n",
      "1. 수입/지출 총액 비교\n",
      "\n",
      "(1) 결의서전표 수입총액 : 5136734원, 통장거래내역 입금총액 : 5136734원\n",
      ">>> 수입총액은 정상입니다.\n",
      "\n",
      "(2) 결의서전표 지출총액 : 5477678원, 통장거래내역 출금총액 : 5477678원\n",
      ">>> 지출총액은 정상입니다.\n",
      "\n",
      "======================================================================\n",
      "\n"
     ]
    }
   ],
   "source": [
    "# 3. comparing total amount of income & spending\n",
    "print('<<<<<<< 전표 점검을 시작합니다 >>>>>>>\\n')\n",
    "\n",
    "print('1. 수입/지출 총액 비교\\n')\n",
    "\n",
    "system_income = sum(system_df.수입금액)\n",
    "account_income = sum(account_df[\"입금금액(원)\"])\n",
    "print(f'(1) 결의서전표 수입총액 : { system_income }원, 통장거래내역 입금총액 : { account_income }원')\n",
    "print('>>> 수입총액은 정상입니다.\\n') if system_income == account_income else print('>>> 경고!!! 수입총액이 다릅니다!\\n')\n",
    "\n",
    "system_spending = sum(system_df.지출금액)\n",
    "account_spending = sum(account_df['출금금액(원)'])\n",
    "print(f'(2) 결의서전표 지출총액 : { system_spending }원, 통장거래내역 출금총액 : { account_spending }원')\n",
    "print('>>> 지출총액은 정상입니다.\\n') if system_income == account_income else print('>>> 경고!!! 지출총액이 다릅니다!\\n')\n",
    "\n",
    "print('='*70, end='\\n'*2)"
   ]
  },
  {
   "cell_type": "code",
   "execution_count": 5,
   "metadata": {
    "scrolled": true
   },
   "outputs": [],
   "source": [
    "# 4. migrating rows with same date - calcaulating total amount of each date\n",
    "system_df_groupby = system_df.groupby('결의일자')[['수입금액','지출금액']].sum()\n",
    "# system_df_groupby\n",
    "\n",
    "account_df_groupby = account_df.groupby('거래일자')[['입금금액(원)','출금금액(원)']].sum()\n",
    "# account_df_groupby"
   ]
  },
  {
   "cell_type": "code",
   "execution_count": 6,
   "metadata": {
    "scrolled": true
   },
   "outputs": [],
   "source": [
    "# 5. merging two df\n",
    "merge_df = system_df_groupby.merge(account_df_groupby, how='outer',left_on=system_df_groupby.index, right_on=account_df_groupby.index)\n",
    "merge_df = merge_df.rename(columns={'key_0':'날짜'}).set_index('날짜')\n",
    "merge_df = merge_df.fillna(0).astype(int)\n",
    "# merge_df"
   ]
  },
  {
   "cell_type": "code",
   "execution_count": 9,
   "metadata": {},
   "outputs": [
    {
     "name": "stdout",
     "output_type": "stream",
     "text": [
      "2. 수입결의서 날짜별 총액 비교\n",
      "\n",
      ">>> 경고!!! [수입 결의서] 문제가 발견되었습니다!\n",
      "\n",
      "(1) 2019/01/10 날짜 : [수입 결의서] 10000원 → [통장 거래내역] 0원입니다.\n",
      "\n",
      "(2) 2019/02/25 날짜 : [수입 결의서] 90000원 → [통장 거래내역] 100000원입니다.\n",
      "\n",
      "======================================================================\n",
      "\n",
      "3. 지출결의서 날짜별 총액 비교\n",
      "\n",
      ">>> [지출 결의서] 정상입니다.\n",
      "\n",
      "======================================================================\n",
      "\n"
     ]
    }
   ],
   "source": [
    "# 6. comparing incomes of each date\n",
    "print('2. 수입결의서 날짜별 총액 비교\\n')\n",
    "unmatch_income = [ (idx, item1, item2) for (idx, item1, item2) \n",
    "     in zip(merge_df.index, merge_df['수입금액'], merge_df['입금금액(원)'])\n",
    "     if item1 != item2 ]\n",
    "\n",
    "if not unmatch_income:\n",
    "    print('>>> [수입 결의서] 정상입니다.\\n')\n",
    "else:\n",
    "    print('>>> 경고!!! [수입 결의서] 문제가 발견되었습니다!\\n')\n",
    "    for idx, line in enumerate(unmatch_income):\n",
    "        print(f'({idx+1}) {line[0]} 날짜 : [수입 결의서] {line[1]}원 → [통장 거래내역] {line[2]}원입니다.\\n')\n",
    "        pass\n",
    "    pass\n",
    "\n",
    "print('='*70, end='\\n'*2)\n",
    "\n",
    "# 7. comparing spendings of each date\n",
    "print('3. 지출결의서 날짜별 총액 비교\\n')\n",
    "unmatch_cost = [ (idx, item1, item2) for (idx, item1, item2) \n",
    "     in zip(merge_df.index, merge_df['지출금액'], merge_df['출금금액(원)'])\n",
    "     if item1 != item2 ]\n",
    "\n",
    "if not unmatch_cost:\n",
    "    print('>>> [지출 결의서] 정상입니다.\\n')\n",
    "else:\n",
    "    print('>>> 경고!!! [지출 결의서] 문제가 발견되었습니다!\\n')\n",
    "    for idx, line in enumerate(unmatch_cost):\n",
    "        print(f'({idx+1}) [지출 결의서] {line[0]} 날짜에 {line[1]}원으로 입력된 부분은 통장 거래내역에 {line[2]}원입니다.\\n')\n",
    "        pass\n",
    "    pass\n",
    "\n",
    "print('='*70, end='\\n'*2)"
   ]
  },
  {
   "cell_type": "code",
   "execution_count": 8,
   "metadata": {},
   "outputs": [
    {
     "name": "stdout",
     "output_type": "stream",
     "text": [
      "종료하시려면 아무 키나 입력하세요 >>> 1\n"
     ]
    }
   ],
   "source": [
    "end_input = input('종료하시려면 아무 키나 입력하세요 >>> ')"
   ]
  }
 ],
 "metadata": {
  "kernelspec": {
   "display_name": "Python 3",
   "language": "python",
   "name": "python3"
  },
  "language_info": {
   "codemirror_mode": {
    "name": "ipython",
    "version": 3
   },
   "file_extension": ".py",
   "mimetype": "text/x-python",
   "name": "python",
   "nbconvert_exporter": "python",
   "pygments_lexer": "ipython3",
   "version": "3.6.6"
  }
 },
 "nbformat": 4,
 "nbformat_minor": 2
}
