{
 "cells": [
  {
   "cell_type": "code",
   "execution_count": 1,
   "metadata": {},
   "outputs": [],
   "source": [
    "import pandas as pd\n",
    "import numpy as np\n",
    "import glob as gb"
   ]
  },
  {
   "cell_type": "code",
   "execution_count": 2,
   "metadata": {},
   "outputs": [
    {
     "name": "stdout",
     "output_type": "stream",
     "text": [
      "9, 9\n",
      "../../1. 후원금사복시스템결의서 2009-2018년\\2011년후원금사복시스템결의서.xlsx\n",
      "../../2. 후원금 통장거래내역 2009년-2017년\\입출금거래내역 결과2011년1월~12월.xls\n"
     ]
    }
   ],
   "source": [
    "system_flist = gb.glob('../../1. 후원금사복시스템결의서 2009-2018년/*.xlsx')\n",
    "account_flist = gb.glob('../../2. 후원금 통장거래내역 2009년-2017년/*.xls')\n",
    "print(f'{len(system_flist)}, {len(account_flist)}')\n",
    "\n",
    "\n",
    "idx = -7\n",
    "print(system_flist[idx])\n",
    "print(account_flist[idx])"
   ]
  },
  {
   "cell_type": "code",
   "execution_count": 3,
   "metadata": {},
   "outputs": [
    {
     "name": "stdout",
     "output_type": "stream",
     "text": [
      "(119, 2)\n"
     ]
    },
    {
     "data": {
      "text/html": [
       "<div>\n",
       "<style scoped>\n",
       "    .dataframe tbody tr th:only-of-type {\n",
       "        vertical-align: middle;\n",
       "    }\n",
       "\n",
       "    .dataframe tbody tr th {\n",
       "        vertical-align: top;\n",
       "    }\n",
       "\n",
       "    .dataframe thead th {\n",
       "        text-align: right;\n",
       "    }\n",
       "</style>\n",
       "<table border=\"1\" class=\"dataframe\">\n",
       "  <thead>\n",
       "    <tr style=\"text-align: right;\">\n",
       "      <th></th>\n",
       "      <th>수입금액</th>\n",
       "      <th>지출금액</th>\n",
       "    </tr>\n",
       "  </thead>\n",
       "  <tbody>\n",
       "    <tr>\n",
       "      <th>2011-12-21</th>\n",
       "      <td>0</td>\n",
       "      <td>11860</td>\n",
       "    </tr>\n",
       "    <tr>\n",
       "      <th>2011-12-23</th>\n",
       "      <td>0</td>\n",
       "      <td>14000</td>\n",
       "    </tr>\n",
       "    <tr>\n",
       "      <th>2011-12-25</th>\n",
       "      <td>218</td>\n",
       "      <td>0</td>\n",
       "    </tr>\n",
       "    <tr>\n",
       "      <th>2011-12-25</th>\n",
       "      <td>0</td>\n",
       "      <td>30</td>\n",
       "    </tr>\n",
       "    <tr>\n",
       "      <th>2011-12-26</th>\n",
       "      <td>0</td>\n",
       "      <td>7000</td>\n",
       "    </tr>\n",
       "  </tbody>\n",
       "</table>\n",
       "</div>"
      ],
      "text/plain": [
       "            수입금액   지출금액\n",
       "2011-12-21     0  11860\n",
       "2011-12-23     0  14000\n",
       "2011-12-25   218      0\n",
       "2011-12-25     0     30\n",
       "2011-12-26     0   7000"
      ]
     },
     "execution_count": 3,
     "metadata": {},
     "output_type": "execute_result"
    }
   ],
   "source": [
    "# 1. preprocessing report statement xlsx\n",
    "system_df = pd.read_excel(system_flist[idx])[['결의일자-번호','수입금액','지출금액']].iloc[ :-1]\n",
    "system_df['결의일자'] = [ string[:-2] for string in system_df['결의일자-번호'] ]\n",
    "system_df = system_df.drop('결의일자-번호', axis=1)\n",
    "system_df = system_df.set_index('결의일자')\n",
    "system_df.index = pd.to_datetime(system_df.index).date\n",
    "system_df = system_df.sort_index()\n",
    "\n",
    "print(system_df.shape)\n",
    "system_df.tail()"
   ]
  },
  {
   "cell_type": "code",
   "execution_count": 4,
   "metadata": {},
   "outputs": [
    {
     "name": "stdout",
     "output_type": "stream",
     "text": [
      "(229, 2)\n"
     ]
    },
    {
     "data": {
      "text/html": [
       "<div>\n",
       "<style scoped>\n",
       "    .dataframe tbody tr th:only-of-type {\n",
       "        vertical-align: middle;\n",
       "    }\n",
       "\n",
       "    .dataframe tbody tr th {\n",
       "        vertical-align: top;\n",
       "    }\n",
       "\n",
       "    .dataframe thead th {\n",
       "        text-align: right;\n",
       "    }\n",
       "</style>\n",
       "<table border=\"1\" class=\"dataframe\">\n",
       "  <thead>\n",
       "    <tr style=\"text-align: right;\">\n",
       "      <th></th>\n",
       "      <th>입금금액(원)</th>\n",
       "      <th>출금금액(원)</th>\n",
       "    </tr>\n",
       "  </thead>\n",
       "  <tbody>\n",
       "    <tr>\n",
       "      <th>2011-12-21</th>\n",
       "      <td>0</td>\n",
       "      <td>1860</td>\n",
       "    </tr>\n",
       "    <tr>\n",
       "      <th>2011-12-21</th>\n",
       "      <td>0</td>\n",
       "      <td>10000</td>\n",
       "    </tr>\n",
       "    <tr>\n",
       "      <th>2011-12-23</th>\n",
       "      <td>0</td>\n",
       "      <td>14000</td>\n",
       "    </tr>\n",
       "    <tr>\n",
       "      <th>2011-12-25</th>\n",
       "      <td>218</td>\n",
       "      <td>0</td>\n",
       "    </tr>\n",
       "    <tr>\n",
       "      <th>2011-12-25</th>\n",
       "      <td>0</td>\n",
       "      <td>30</td>\n",
       "    </tr>\n",
       "  </tbody>\n",
       "</table>\n",
       "</div>"
      ],
      "text/plain": [
       "            입금금액(원)  출금금액(원)\n",
       "2011-12-21        0     1860\n",
       "2011-12-21        0    10000\n",
       "2011-12-23        0    14000\n",
       "2011-12-25      218        0\n",
       "2011-12-25        0       30"
      ]
     },
     "execution_count": 4,
     "metadata": {},
     "output_type": "execute_result"
    }
   ],
   "source": [
    "# 2. preprocessing account xls\n",
    "account_df = pd.read_excel(account_flist[idx], skiprows = 9)[['거래일자','입금금액(원)','출금금액(원)']]\n",
    "account_df = account_df.set_index('거래일자').fillna(0).astype(int)\n",
    "account_df.index = pd.to_datetime(account_df.index).date\n",
    "\n",
    "print(account_df.shape)\n",
    "account_df.tail()"
   ]
  },
  {
   "cell_type": "code",
   "execution_count": 5,
   "metadata": {},
   "outputs": [
    {
     "name": "stdout",
     "output_type": "stream",
     "text": [
      "<<<<<<< 전표 점검을 시작합니다 >>>>>>>\n",
      "\n",
      "1. 수입/지출 총액 비교\n",
      "\n",
      "(1) 결의서전표 수입총액 : 5871731원, 통장거래내역 입금총액 : 5871731원\n",
      ">>> 수입총액은 정상입니다.\n",
      "\n",
      "(2) 결의서전표 지출총액 : 7058810원, 통장거래내역 출금총액 : 6770030원\n",
      ">>> 경고!!! 지출총액이 다릅니다! (차액 288780 원) \n",
      "\n",
      "======================================================================\n",
      "\n"
     ]
    }
   ],
   "source": [
    "# 3. comparing total amount of income & spending\n",
    "print('<<<<<<< 전표 점검을 시작합니다 >>>>>>>\\n')\n",
    "\n",
    "print('1. 수입/지출 총액 비교\\n')\n",
    "\n",
    "system_income = sum(system_df.수입금액)\n",
    "account_income = sum(account_df[\"입금금액(원)\"])\n",
    "print(f'(1) 결의서전표 수입총액 : { system_income }원, 통장거래내역 입금총액 : { account_income }원')\n",
    "print('>>> 수입총액은 정상입니다.\\n') if system_income == account_income \\\n",
    "        else print(f'>>> 경고!!! 수입총액이 다릅니다! (차액 {system_income - account_income} 원) \\n')\n",
    "\n",
    "system_spending = sum(system_df.지출금액)\n",
    "account_spending = sum(account_df['출금금액(원)'])\n",
    "print(f'(2) 결의서전표 지출총액 : { system_spending }원, 통장거래내역 출금총액 : { account_spending }원')\n",
    "print('>>> 지출총액은 정상입니다.\\n') if system_spending == account_spending \\\n",
    "        else print(f'>>> 경고!!! 지출총액이 다릅니다! (차액 {system_spending - account_spending} 원) \\n')\n",
    "\n",
    "print('='*70, end='\\n'*2)"
   ]
  },
  {
   "cell_type": "code",
   "execution_count": 63,
   "metadata": {
    "scrolled": false
   },
   "outputs": [
    {
     "name": "stdout",
     "output_type": "stream",
     "text": [
      "======================================================================\n",
      "\n",
      "3. 지출결의서 날짜별 총액 비교\n",
      "\n",
      ">>> 경고!!! [지출 결의서] 문제가 발견되었습니다!\n",
      "\n",
      "(1) [지출 결의서] 2011-01-20 날짜에 114000원으로 입력된 부분은 통장 거래내역에 70000원입니다.\n",
      "\n",
      "(2) [지출 결의서] 2011-01-21 날짜에 0원으로 입력된 부분은 통장 거래내역에 44000원입니다.\n",
      "\n",
      "(3) [지출 결의서] 2011-02-01 날짜에 0원으로 입력된 부분은 통장 거래내역에 99500원입니다.\n",
      "\n",
      "(4) [지출 결의서] 2011-02-17 날짜에 42900원으로 입력된 부분은 통장 거래내역에 9000원입니다.\n",
      "\n",
      "(5) [지출 결의서] 2011-02-18 날짜에 0원으로 입력된 부분은 통장 거래내역에 11400원입니다.\n",
      "\n",
      "(6) [지출 결의서] 2011-02-19 날짜에 0원으로 입력된 부분은 통장 거래내역에 22500원입니다.\n",
      "\n",
      "(7) [지출 결의서] 2011-03-02 날짜에 139000원으로 입력된 부분은 통장 거래내역에 0원입니다.\n",
      "\n",
      "(8) [지출 결의서] 2011-03-04 날짜에 0원으로 입력된 부분은 통장 거래내역에 50000원입니다.\n",
      "\n",
      "(9) [지출 결의서] 2011-03-05 날짜에 0원으로 입력된 부분은 통장 거래내역에 60000원입니다.\n",
      "\n",
      "(10) [지출 결의서] 2011-03-08 날짜에 108000원으로 입력된 부분은 통장 거래내역에 60000원입니다.\n",
      "\n",
      "(11) [지출 결의서] 2011-03-10 날짜에 0원으로 입력된 부분은 통장 거래내역에 20000원입니다.\n",
      "\n",
      "(12) [지출 결의서] 2011-03-12 날짜에 0원으로 입력된 부분은 통장 거래내역에 18000원입니다.\n",
      "\n",
      "(13) [지출 결의서] 2011-03-19 날짜에 232500원으로 입력된 부분은 통장 거래내역에 112500원입니다.\n",
      "\n",
      "(14) [지출 결의서] 2011-03-20 날짜에 0원으로 입력된 부분은 통장 거래내역에 120000원입니다.\n",
      "\n",
      "(15) [지출 결의서] 2011-03-25 날짜에 114500원으로 입력된 부분은 통장 거래내역에 19500원입니다.\n",
      "\n",
      "(16) [지출 결의서] 2011-03-26 날짜에 0원으로 입력된 부분은 통장 거래내역에 9000원입니다.\n",
      "\n",
      "(17) [지출 결의서] 2011-03-28 날짜에 0원으로 입력된 부분은 통장 거래내역에 80000원입니다.\n",
      "\n",
      "(18) [지출 결의서] 2011-04-10 날짜에 69500원으로 입력된 부분은 통장 거래내역에 0원입니다.\n",
      "\n",
      "(19) [지출 결의서] 2011-04-18 날짜에 8900원으로 입력된 부분은 통장 거래내역에 0원입니다.\n",
      "\n",
      "(20) [지출 결의서] 2011-06-06 날짜에 104840원으로 입력된 부분은 통장 거래내역에 69000원입니다.\n",
      "\n",
      "(21) [지출 결의서] 2011-06-10 날짜에 0원으로 입력된 부분은 통장 거래내역에 2840원입니다.\n",
      "\n",
      "(22) [지출 결의서] 2011-06-11 날짜에 0원으로 입력된 부분은 통장 거래내역에 33000원입니다.\n",
      "\n",
      "(23) [지출 결의서] 2011-06-13 날짜에 170600원으로 입력된 부분은 통장 거래내역에 14000원입니다.\n",
      "\n",
      "(24) [지출 결의서] 2011-06-16 날짜에 0원으로 입력된 부분은 통장 거래내역에 138700원입니다.\n",
      "\n",
      "(25) [지출 결의서] 2011-06-19 날짜에 0원으로 입력된 부분은 통장 거래내역에 17900원입니다.\n",
      "\n",
      "(26) [지출 결의서] 2011-06-22 날짜에 206000원으로 입력된 부분은 통장 거래내역에 156000원입니다.\n",
      "\n",
      "(27) [지출 결의서] 2011-06-23 날짜에 0원으로 입력된 부분은 통장 거래내역에 50000원입니다.\n",
      "\n",
      "(28) [지출 결의서] 2011-06-26 날짜에 110030원으로 입력된 부분은 통장 거래내역에 60030원입니다.\n",
      "\n",
      "(29) [지출 결의서] 2011-06-29 날짜에 0원으로 입력된 부분은 통장 거래내역에 50000원입니다.\n",
      "\n",
      "(30) [지출 결의서] 2011-07-01 날짜에 261000원으로 입력된 부분은 통장 거래내역에 181000원입니다.\n",
      "\n",
      "(31) [지출 결의서] 2011-07-02 날짜에 0원으로 입력된 부분은 통장 거래내역에 30000원입니다.\n",
      "\n",
      "(32) [지출 결의서] 2011-07-05 날짜에 0원으로 입력된 부분은 통장 거래내역에 50000원입니다.\n",
      "\n",
      "(33) [지출 결의서] 2011-07-17 날짜에 171410원으로 입력된 부분은 통장 거래내역에 100000원입니다.\n",
      "\n",
      "(34) [지출 결의서] 2011-07-18 날짜에 0원으로 입력된 부분은 통장 거래내역에 15000원입니다.\n",
      "\n",
      "(35) [지출 결의서] 2011-07-20 날짜에 0원으로 입력된 부분은 통장 거래내역에 10000원입니다.\n",
      "\n",
      "(36) [지출 결의서] 2011-07-21 날짜에 0원으로 입력된 부분은 통장 거래내역에 36010원입니다.\n",
      "\n",
      "(37) [지출 결의서] 2011-07-27 날짜에 16000원으로 입력된 부분은 통장 거래내역에 0원입니다.\n",
      "\n",
      "(38) [지출 결의서] 2011-07-28 날짜에 0원으로 입력된 부분은 통장 거래내역에 10000원입니다.\n",
      "\n",
      "(39) [지출 결의서] 2011-08-03 날짜에 670000원으로 입력된 부분은 통장 거래내역에 570000원입니다.\n",
      "\n",
      "(40) [지출 결의서] 2011-08-04 날짜에 0원으로 입력된 부분은 통장 거래내역에 50000원입니다.\n",
      "\n",
      "(41) [지출 결의서] 2011-08-05 날짜에 0원으로 입력된 부분은 통장 거래내역에 50000원입니다.\n",
      "\n",
      "(42) [지출 결의서] 2011-08-09 날짜에 15000원으로 입력된 부분은 통장 거래내역에 0원입니다.\n",
      "\n",
      "(43) [지출 결의서] 2011-08-17 날짜에 59880원으로 입력된 부분은 통장 거래내역에 0원입니다.\n",
      "\n",
      "(44) [지출 결의서] 2011-08-21 날짜에 0원으로 입력된 부분은 통장 거래내역에 40500원입니다.\n",
      "\n",
      "(45) [지출 결의서] 2011-08-23 날짜에 111600원으로 입력된 부분은 통장 거래내역에 0원입니다.\n",
      "\n",
      "(46) [지출 결의서] 2011-08-26 날짜에 0원으로 입력된 부분은 통장 거래내역에 53000원입니다.\n",
      "\n",
      "(47) [지출 결의서] 2011-09-01 날짜에 84000원으로 입력된 부분은 통장 거래내역에 50000원입니다.\n",
      "\n",
      "(48) [지출 결의서] 2011-09-03 날짜에 0원으로 입력된 부분은 통장 거래내역에 30000원입니다.\n",
      "\n",
      "(49) [지출 결의서] 2011-09-07 날짜에 292800원으로 입력된 부분은 통장 거래내역에 200500원입니다.\n",
      "\n",
      "(50) [지출 결의서] 2011-09-09 날짜에 0원으로 입력된 부분은 통장 거래내역에 92300원입니다.\n",
      "\n",
      "(51) [지출 결의서] 2011-09-14 날짜에 84000원으로 입력된 부분은 통장 거래내역에 80000원입니다.\n",
      "\n",
      "(52) [지출 결의서] 2011-09-22 날짜에 137500원으로 입력된 부분은 통장 거래내역에 122500원입니다.\n",
      "\n",
      "(53) [지출 결의서] 2011-09-26 날짜에 0원으로 입력된 부분은 통장 거래내역에 15000원입니다.\n",
      "\n",
      "(54) [지출 결의서] 2011-09-27 날짜에 569000원으로 입력된 부분은 통장 거래내역에 164600원입니다.\n",
      "\n",
      "(55) [지출 결의서] 2011-09-28 날짜에 0원으로 입력된 부분은 통장 거래내역에 50000원입니다.\n",
      "\n",
      "(56) [지출 결의서] 2011-09-30 날짜에 0원으로 입력된 부분은 통장 거래내역에 369000원입니다.\n",
      "\n",
      "(57) [지출 결의서] 2011-10-15 날짜에 19200원으로 입력된 부분은 통장 거래내역에 0원입니다.\n",
      "\n",
      "(58) [지출 결의서] 2011-10-28 날짜에 70000원으로 입력된 부분은 통장 거래내역에 0원입니다.\n",
      "\n",
      "(59) [지출 결의서] 2011-11-03 날짜에 4000원으로 입력된 부분은 통장 거래내역에 0원입니다.\n",
      "\n",
      "(60) [지출 결의서] 2011-11-17 날짜에 11900원으로 입력된 부분은 통장 거래내역에 0원입니다.\n",
      "\n",
      "(61) [지출 결의서] 2011-12-17 날짜에 70000원으로 입력된 부분은 통장 거래내역에 20000원입니다.\n",
      "\n",
      "(62) [지출 결의서] 2011-12-26 날짜에 7000원으로 입력된 부분은 통장 거래내역에 0원입니다.\n",
      "\n",
      "======================================================================\n",
      "\n"
     ]
    }
   ],
   "source": [
    "# 4. migrating rows with same date - calcaulating total amount of each date\n",
    "system_df_groupby = system_df.groupby(system_df.index)[['수입금액','지출금액']].sum()\n",
    "# system_df_groupby\n",
    "\n",
    "account_df_groupby = account_df.groupby(account_df.index)[['입금금액(원)','출금금액(원)']].sum()\n",
    "# account_df_groupby\n",
    "\n",
    "# 5. merging two df\n",
    "merge_df = system_df_groupby.merge(account_df_groupby, how='outer',left_on=system_df_groupby.index, right_on=account_df_groupby.index)\n",
    "merge_df = merge_df.rename(columns={'key_0':'날짜'}).set_index('날짜')\n",
    "merge_df = merge_df.fillna(0).astype(int)\n",
    "merge_df.head()\n",
    "\n",
    "\n",
    "# 6. comparing incomes of each date\n",
    "print('2. 수입결의서 날짜별 총액 비교\\n')\n",
    "unmatch_income = [ (idx, item1, item2) for (idx, item1, item2) \n",
    "     in zip(merge_df.index, merge_df['수입금액'], merge_df['입금금액(원)'])\n",
    "     if item1 != item2 ]\n",
    "unmatch_income.sort()\n",
    "\n",
    "if not unmatch_income:\n",
    "    print('>>> [수입 결의서] 정상입니다.\\n')\n",
    "else:\n",
    "    print('>>> 경고!!! [수입 결의서] 문제가 발견되었습니다!\\n')\n",
    "    for idx, line in enumerate(unmatch_income):\n",
    "        print(f'({idx+1}) {line[0]} 날짜 : [수입 결의서] {line[1]}원 → [통장 거래내역] {line[2]}원입니다.\\n')\n",
    "        pass\n",
    "    pass\n",
    "\n",
    "print('='*70, end='\\n'*2)\n",
    "\n",
    "# 7. comparing spendings of each date\n",
    "print('3. 지출결의서 날짜별 총액 비교\\n')\n",
    "unmatch_cost = [ (idx, item1, item2) for (idx, item1, item2) \n",
    "     in zip(merge_df.index, merge_df['지출금액'], merge_df['출금금액(원)'])\n",
    "     if item1 != item2 ]\n",
    "unmatch_cost.sort()\n",
    "\n",
    "if not unmatch_cost:\n",
    "    print('>>> [지출 결의서] 정상입니다.\\n')\n",
    "else:\n",
    "    print('>>> 경고!!! [지출 결의서] 문제가 발견되었습니다!\\n')\n",
    "    for idx, line in enumerate(unmatch_cost):\n",
    "        print(f'({idx+1}) [지출 결의서] {line[0]} 날짜에 {line[1]}원으로 입력된 부분은 통장 거래내역에 {line[2]}원입니다.\\n')\n",
    "        pass\n",
    "    pass\n",
    "\n",
    "print('='*70, end='\\n'*2)"
   ]
  },
  {
   "cell_type": "code",
   "execution_count": 60,
   "metadata": {
    "scrolled": true
   },
   "outputs": [
    {
     "name": "stdout",
     "output_type": "stream",
     "text": [
      "77000 - 20000 = 57000\n"
     ]
    }
   ],
   "source": [
    "a = unmatch_cost[60:]\n",
    "sys_tot = sum([tup[1] for tup in a])\n",
    "acc_tot = sum([tup[2] for tup in a])\n",
    "print(f'{sys_tot} - {acc_tot} = {sys_tot-acc_tot}')"
   ]
  },
  {
   "cell_type": "code",
   "execution_count": 61,
   "metadata": {},
   "outputs": [
    {
     "data": {
      "text/plain": [
       "[(datetime.date(2011, 12, 17), 70000, 20000),\n",
       " (datetime.date(2011, 12, 26), 7000, 0)]"
      ]
     },
     "execution_count": 61,
     "metadata": {},
     "output_type": "execute_result"
    }
   ],
   "source": [
    "unmatch_cost[60:]"
   ]
  }
 ],
 "metadata": {
  "kernelspec": {
   "display_name": "Python 3",
   "language": "python",
   "name": "python3"
  },
  "language_info": {
   "codemirror_mode": {
    "name": "ipython",
    "version": 3
   },
   "file_extension": ".py",
   "mimetype": "text/x-python",
   "name": "python",
   "nbconvert_exporter": "python",
   "pygments_lexer": "ipython3",
   "version": "3.6.6"
  }
 },
 "nbformat": 4,
 "nbformat_minor": 2
}
