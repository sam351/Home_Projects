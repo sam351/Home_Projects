{
 "cells": [
  {
   "cell_type": "code",
   "execution_count": 1,
   "metadata": {},
   "outputs": [],
   "source": [
    "from selenium import webdriver\n",
    "import time\n",
    "import tqdm\n",
    "import glob as gb\n",
    "import winsound"
   ]
  },
  {
   "cell_type": "code",
   "execution_count": 2,
   "metadata": {},
   "outputs": [],
   "source": [
    "# generate Webdriver object - Chrome version 79.0.3945.130 (64 bit)\n",
    "driver = webdriver.Chrome('driver/chromedriver.exe')\n",
    "driver.get('https://nid.naver.com/nidlogin.login')\n",
    "\n",
    "input('>>> press Enter after log in comleted : ')"
   ]
  },
  {
   "cell_type": "markdown",
   "metadata": {},
   "source": [
    "## <<< Login manually at this step >>>"
   ]
  },
  {
   "cell_type": "markdown",
   "metadata": {},
   "source": [
    "## M1. Crawling for all menus of a certain group"
   ]
  },
  {
   "cell_type": "code",
   "execution_count": 25,
   "metadata": {
    "scrolled": false
   },
   "outputs": [
    {
     "name": "stdout",
     "output_type": "stream",
     "text": [
      "Let me crawl EBS 올림포스 2(정회원) menu of group324...\n",
      "EBS 올림포스 2(정회원) menu is already completed!!! skip that...\n",
      "Let me crawl EBS 올림포스 1(정회원) menu of group324...\n",
      "EBS 올림포스 1(정회원) menu is already completed!!! skip that...\n",
      "Let me crawl 16.수특(영어)(정회원) menu of group324...\n",
      "16.수특(영어)(정회원) menu is already completed!!! skip that...\n",
      "Let me crawl 16.수특(영독)(정회원) menu of group324...\n",
      "16.수특(영독)(정회원) menu is already completed!!! skip that...\n",
      "Let me crawl 16.수특(영어)문제분리(정회원) menu of group324...\n",
      "16.수특(영어)문제분리(정회원) menu is already completed!!! skip that...\n",
      "Let me crawl 16.수특(독해)문제분리(정회원) menu of group324...\n",
      "16.수특(독해)문제분리(정회원) menu is already completed!!! skip that...\n",
      "Let me crawl 16.수완(유형편)(2016)(정회원) menu of group324...\n",
      "16.수완(유형편)(2016)(정회원) menu is already completed!!! skip that...\n",
      "Let me crawl 16.수완(실전편)(2016)(정회원) menu of group324...\n",
      "16.수완(실전편)(2016)(정회원) menu is already completed!!! skip that...\n",
      "Let me crawl 2015 수능완성(정회원) menu of group324...\n",
      "2015 수능완성(정회원) menu is already completed!!! skip that...\n",
      "Let me crawl 고1 모의고사(정회원) menu of group324...\n",
      "고1 모의고사(정회원) menu is already completed!!! skip that...\n",
      "Let me crawl 고2 모의고사(정회원) menu of group324...\n",
      "Start crawling 1 page, 20 items\n"
     ]
    },
    {
     "name": "stderr",
     "output_type": "stream",
     "text": [
      "C:\\Users\\Samuel\\Anaconda3\\envs\\homeET\\lib\\site-packages\\ipykernel_launcher.py:59: TqdmDeprecationWarning: This function will be removed in tqdm==5.0.0\n",
      "Please use `tqdm.notebook.tqdm` instead of `tqdm.tqdm_notebook`\n"
     ]
    },
    {
     "data": {
      "application/vnd.jupyter.widget-view+json": {
       "model_id": "621a3d4b49644e60b9e3a7c9243f0436",
       "version_major": 2,
       "version_minor": 0
      },
      "text/plain": [
       "HBox(children=(FloatProgress(value=0.0, max=20.0), HTML(value='')))"
      ]
     },
     "metadata": {},
     "output_type": "display_data"
    },
    {
     "name": "stdout",
     "output_type": "stream",
     "text": [
      ">>> Warning!!! no. of items : 2 (in article 13 of 1 page)\n",
      ">>> Error!!!!! (in article 14 of 1 page) :\n",
      " Message: no such element: Unable to locate element: {\"method\":\"xpath\",\"selector\":\"//a[@class=\"atch_view m-tcol-c\"]\"}\n",
      "  (Session info: chrome=79.0.3945.117)\n",
      "\n",
      ">>> Warning!!! no. of items : 2 (in article 16 of 1 page)\n",
      "\n",
      ">>> crawling successfully finishied\n"
     ]
    }
   ],
   "source": [
    "def click_expand(group_id_str):\n",
    "    # (optional) click expand buttton\n",
    "    expand_btn = driver.find_element_by_xpath(f'//*[@id=\"{group_id_str}btn\"]')\n",
    "    if expand_btn.get_attribute('class') == 'down-btn':\n",
    "        expand_btn.click()\n",
    "        driver.implicitly_wait(3)\n",
    "        pass\n",
    "    pass\n",
    "\n",
    "def navigate_main(expand_flag=False, group_id_str=''):\n",
    "    driver.get('https://cafe.naver.com/mpihb')  # //cafe.naver.com/MyCafeIntro.nhn?clubid=23064234\n",
    "    driver.implicitly_wait(1)\n",
    "    \n",
    "    if expand_flag:\n",
    "        #  (optional) click expand buttton\n",
    "        click_expand(group_id_str)\n",
    "    pass\n",
    "\n",
    "group_id = \"group324\"\n",
    "flag = True\n",
    "\n",
    "navigate_main(expand_flag=flag, group_id_str = group_id)\n",
    "\n",
    "iter_num = len( driver.find_elements_by_xpath(f'//*[@id=\"{group_id}\"]/li/a') )\n",
    "for menu_idx in range(iter_num):\n",
    "    \n",
    "    # refresh window\n",
    "    navigate_main(expand_flag=flag, group_id_str = group_id)\n",
    "\n",
    "    # select menu\n",
    "    menu_list = driver.find_elements_by_xpath(f'//*[@id=\"{group_id}\"]/li/a')\n",
    "    menu_text = menu_list[menu_idx].text\n",
    "    menu_list[menu_idx].click()\n",
    "    driver.implicitly_wait(5)\n",
    "    print(f'Let me crawl {menu_text} menu of {group_id}...')\n",
    "    \n",
    "    # only for re-activating code\n",
    "    if menu_idx < 10:\n",
    "        print(f'{menu_text} menu is already completed!!! skip that...')\n",
    "        continue\n",
    "\n",
    "    # view 50 items\n",
    "    driver.switch_to.frame('cafe_main')\n",
    "    driver.implicitly_wait(5)\n",
    "    driver.find_element_by_xpath('//*[@id=\"listSizeSelectDiv\"]/a').click()\n",
    "    driver.find_element_by_xpath('//*[@id=\"listSizeSelectDiv\"]/ul/li[7]/a').click()\n",
    "    time.sleep(1)\n",
    "\n",
    "    # crawl files of 50 items in each page\n",
    "    page_num = len(driver.find_elements_by_xpath('//*[@id=\"main-area\"]/div[6]/a'))\n",
    "    for page_idx in range(page_num):\n",
    "\n",
    "        page_list = driver.find_elements_by_xpath('//*[@id=\"main-area\"]/div[6]/a')\n",
    "        page_list[page_idx].click()\n",
    "        time.sleep(3)\n",
    "\n",
    "        article_num = len(driver.find_elements_by_xpath('//*[@id=\"main-area\"]/div[4]/table/tbody/tr'))\n",
    "        print(f'Start crawling {page_idx+1} page, {article_num} items')\n",
    "        for idx in tqdm.tqdm_notebook(range(article_num)):\n",
    "            \n",
    "#             # only for re-activating code\n",
    "#             if idx < 12:\n",
    "#                 continue\n",
    "            \n",
    "            article_list = driver.find_elements_by_xpath('//*[@id=\"main-area\"]/div[4]/table/tbody/tr')\n",
    "            time.sleep(2)\n",
    "            tmp_article = article_list[idx].find_element_by_tag_name('td').find_elements_by_tag_name('div')[2].find_element_by_tag_name('a')\n",
    "            tmp_article.click()\n",
    "            time.sleep(1)\n",
    "\n",
    "            try:\n",
    "                driver.find_element_by_xpath('//a[@class=\"atch_view m-tcol-c\"]').click()\n",
    "                btn_num = len(driver.find_elements_by_xpath('//div[@class=\"download_opt\"]/a[1]'))\n",
    "                if btn_num > 1 : print(f'>>> Warning!!! no. of items : {btn_num} (in article {idx+1} of {page_idx+1} page)')\n",
    "                for btn_idx in range(btn_num):\n",
    "                    driver.find_elements_by_xpath('//div[@class=\"download_opt\"]/a[1]')[btn_idx].click()\n",
    "                    time.sleep(3)\n",
    "            except Exception as e:\n",
    "                print(f'>>> Error!!!!! (in article {idx+1} of {page_idx+1} page) :\\n',e)\n",
    "                winsound.Beep(2000, 1000)\n",
    "\n",
    "            driver.execute_script(\"window.history.go(-1)\")\n",
    "            time.sleep(3)\n",
    "\n",
    "    print('>>> crawling successfully finishied')\n",
    "    winsound.Beep(2000, 1000)"
   ]
  },
  {
   "cell_type": "markdown",
   "metadata": {},
   "source": [
    "## M2. Crawling only one menu of a certain group"
   ]
  },
  {
   "cell_type": "code",
   "execution_count": 24,
   "metadata": {},
   "outputs": [
    {
     "name": "stdout",
     "output_type": "stream",
     "text": [
      "Let me crawl 고1 모의고사(정회원) menu of group324...\n",
      "Start crawling 1 page, 18 items\n"
     ]
    },
    {
     "name": "stderr",
     "output_type": "stream",
     "text": [
      "C:\\Users\\Samuel\\Anaconda3\\envs\\homeET\\lib\\site-packages\\ipykernel_launcher.py:61: TqdmDeprecationWarning: This function will be removed in tqdm==5.0.0\n",
      "Please use `tqdm.notebook.tqdm` instead of `tqdm.tqdm_notebook`\n"
     ]
    },
    {
     "data": {
      "application/vnd.jupyter.widget-view+json": {
       "model_id": "7d35e4bd0bea4ea78070be9ffc86b119",
       "version_major": 2,
       "version_minor": 0
      },
      "text/plain": [
       "HBox(children=(FloatProgress(value=0.0, max=18.0), HTML(value='')))"
      ]
     },
     "metadata": {},
     "output_type": "display_data"
    },
    {
     "name": "stdout",
     "output_type": "stream",
     "text": [
      ">>> Warning!!! no. of items : 2 (in article 18 of 1 page)\n",
      "\n",
      ">>> crawling successfully finishied\n"
     ]
    }
   ],
   "source": [
    "def click_expand(group_id_str):\n",
    "    # (optional) click expand buttton\n",
    "    expand_btn = driver.find_element_by_xpath(f'//*[@id=\"{group_id_str}btn\"]')\n",
    "    if expand_btn.get_attribute('class') == 'down-btn':\n",
    "        expand_btn.click()\n",
    "        driver.implicitly_wait(3)\n",
    "        pass\n",
    "    pass\n",
    "\n",
    "def navigate_main(expand_flag=False, group_id_str=''):\n",
    "    driver.get('https://cafe.naver.com/mpihb')  # //cafe.naver.com/MyCafeIntro.nhn?clubid=23064234\n",
    "    driver.implicitly_wait(1)\n",
    "    \n",
    "    if expand_flag:\n",
    "        #  (optional) click expand buttton\n",
    "        click_expand(group_id_str)\n",
    "    pass\n",
    "\n",
    "group_id = \"group324\"\n",
    "flag = True\n",
    "menu2crawl_idx = 9\n",
    "\n",
    "navigate_main(expand_flag=flag, group_id_str = group_id)\n",
    "\n",
    "for menu_idx in [menu2crawl_idx]:\n",
    "    \n",
    "    # refresh window\n",
    "    navigate_main(expand_flag=flag, group_id_str = group_id)\n",
    "\n",
    "    # select menu\n",
    "    menu_list = driver.find_elements_by_xpath(f'//*[@id=\"{group_id}\"]/li/a')\n",
    "    menu_text = menu_list[menu_idx].text\n",
    "    menu_list[menu_idx].click()\n",
    "    driver.implicitly_wait(5)\n",
    "    print(f'Let me crawl {menu_text} menu of {group_id}...')\n",
    "    \n",
    "    if menu_idx < menu2crawl_idx:\n",
    "        print(f'{menu_text} menu is already completed!!! skip that...')\n",
    "        continue\n",
    "    elif menu_idx > menu2crawl_idx:\n",
    "        print(f'>>> crawling only {menu_text} menu successfully finishied')\n",
    "        break\n",
    "\n",
    "    # view 50 items\n",
    "    driver.switch_to.frame('cafe_main')\n",
    "    driver.implicitly_wait(5)\n",
    "    driver.find_element_by_xpath('//*[@id=\"listSizeSelectDiv\"]/a').click()\n",
    "    driver.find_element_by_xpath('//*[@id=\"listSizeSelectDiv\"]/ul/li[7]/a').click()\n",
    "    time.sleep(1)\n",
    "\n",
    "    # crawl files of 50 items in each page\n",
    "    page_num = len(driver.find_elements_by_xpath('//*[@id=\"main-area\"]/div[6]/a'))\n",
    "    for page_idx in range(page_num):\n",
    "\n",
    "        page_list = driver.find_elements_by_xpath('//*[@id=\"main-area\"]/div[6]/a')\n",
    "        page_list[page_idx].click()\n",
    "        time.sleep(3)\n",
    "\n",
    "        article_num = len(driver.find_elements_by_xpath('//*[@id=\"main-area\"]/div[4]/table/tbody/tr'))\n",
    "        print(f'Start crawling {page_idx+1} page, {article_num} items')\n",
    "        for idx in tqdm.tqdm_notebook(range(article_num)):\n",
    "            \n",
    "            # only for re-activating code\n",
    "            if idx < 13:\n",
    "                continue\n",
    "            \n",
    "            article_list = driver.find_elements_by_xpath('//*[@id=\"main-area\"]/div[4]/table/tbody/tr')\n",
    "            time.sleep(3)\n",
    "            tmp_article = article_list[idx].find_element_by_tag_name('td').find_elements_by_tag_name('div')[2].find_element_by_tag_name('a')\n",
    "            tmp_article.click()\n",
    "            time.sleep(1)\n",
    "\n",
    "            try:\n",
    "                driver.find_element_by_xpath('//a[@class=\"atch_view m-tcol-c\"]').click()\n",
    "                btn_num = len(driver.find_elements_by_xpath('//div[@class=\"download_opt\"]/a[1]'))\n",
    "                if btn_num > 1 : print(f'>>> Warning!!! no. of items : {btn_num} (in article {idx+1} of {page_idx+1} page)')\n",
    "                for btn_idx in range(btn_num):\n",
    "                    driver.find_elements_by_xpath('//div[@class=\"download_opt\"]/a[1]')[btn_idx].click()\n",
    "                    time.sleep(3)\n",
    "            except Exception as e:\n",
    "                print(f'>>> Error!!!!! (in article {idx+1} of {page_idx+1} page) :\\n',e)\n",
    "                winsound.Beep(2000, 1000)\n",
    "\n",
    "            driver.execute_script(\"window.history.go(-1)\")\n",
    "            time.sleep(3)\n",
    "\n",
    "    print('>>> crawling successfully finishied')\n",
    "    winsound.Beep(2000, 1000)"
   ]
  }
 ],
 "metadata": {
  "kernelspec": {
   "display_name": "Python 3",
   "language": "python",
   "name": "python3"
  },
  "language_info": {
   "codemirror_mode": {
    "name": "ipython",
    "version": 3
   },
   "file_extension": ".py",
   "mimetype": "text/x-python",
   "name": "python",
   "nbconvert_exporter": "python",
   "pygments_lexer": "ipython3",
   "version": "3.7.6"
  }
 },
 "nbformat": 4,
 "nbformat_minor": 2
}
