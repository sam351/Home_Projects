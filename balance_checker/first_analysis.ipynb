{
 "cells": [
  {
   "cell_type": "code",
   "execution_count": 2,
   "metadata": {},
   "outputs": [],
   "source": [
    "import pandas as pd\n",
    "import numpy as np"
   ]
  },
  {
   "cell_type": "code",
   "execution_count": 3,
   "metadata": {
    "scrolled": true
   },
   "outputs": [
    {
     "data": {
      "text/html": [
       "<div>\n",
       "<style scoped>\n",
       "    .dataframe tbody tr th:only-of-type {\n",
       "        vertical-align: middle;\n",
       "    }\n",
       "\n",
       "    .dataframe tbody tr th {\n",
       "        vertical-align: top;\n",
       "    }\n",
       "\n",
       "    .dataframe thead th {\n",
       "        text-align: right;\n",
       "    }\n",
       "</style>\n",
       "<table border=\"1\" class=\"dataframe\">\n",
       "  <thead>\n",
       "    <tr style=\"text-align: right;\">\n",
       "      <th></th>\n",
       "      <th>결의일자</th>\n",
       "      <th>수입금액</th>\n",
       "      <th>지출금액</th>\n",
       "    </tr>\n",
       "  </thead>\n",
       "  <tbody>\n",
       "    <tr>\n",
       "      <th>84</th>\n",
       "      <td>2019/12/26</td>\n",
       "      <td>40000</td>\n",
       "      <td>0</td>\n",
       "    </tr>\n",
       "    <tr>\n",
       "      <th>85</th>\n",
       "      <td>2019/12/28</td>\n",
       "      <td>0</td>\n",
       "      <td>49000</td>\n",
       "    </tr>\n",
       "    <tr>\n",
       "      <th>86</th>\n",
       "      <td>2019/12/29</td>\n",
       "      <td>0</td>\n",
       "      <td>10</td>\n",
       "    </tr>\n",
       "    <tr>\n",
       "      <th>87</th>\n",
       "      <td>2019/12/29</td>\n",
       "      <td>100</td>\n",
       "      <td>0</td>\n",
       "    </tr>\n",
       "    <tr>\n",
       "      <th>88</th>\n",
       "      <td>2019/12/31</td>\n",
       "      <td>10000</td>\n",
       "      <td>0</td>\n",
       "    </tr>\n",
       "  </tbody>\n",
       "</table>\n",
       "</div>"
      ],
      "text/plain": [
       "          결의일자   수입금액   지출금액\n",
       "84  2019/12/26  40000      0\n",
       "85  2019/12/28      0  49000\n",
       "86  2019/12/29      0     10\n",
       "87  2019/12/29    100      0\n",
       "88  2019/12/31  10000      0"
      ]
     },
     "execution_count": 3,
     "metadata": {},
     "output_type": "execute_result"
    }
   ],
   "source": [
    "system_df = pd.read_excel('./결의서전표.xlsx')\n",
    "system_df = system_df.loc[ :system_df.shape[0]-2, ['결의일자-번호','수입금액','지출금액']]\n",
    "system_df['결의일자'] = [string[:-2] for string in system_df['결의일자-번호']]\n",
    "system_df = system_df.loc[ : , ['결의일자','수입금액','지출금액']]\n",
    "\n",
    "system_df = system_df.sort_values('결의일자').reset_index(drop=True)\n",
    "system_df.tail()"
   ]
  },
  {
   "cell_type": "code",
   "execution_count": 4,
   "metadata": {
    "scrolled": true
   },
   "outputs": [
    {
     "data": {
      "text/html": [
       "<div>\n",
       "<style scoped>\n",
       "    .dataframe tbody tr th:only-of-type {\n",
       "        vertical-align: middle;\n",
       "    }\n",
       "\n",
       "    .dataframe tbody tr th {\n",
       "        vertical-align: top;\n",
       "    }\n",
       "\n",
       "    .dataframe thead th {\n",
       "        text-align: right;\n",
       "    }\n",
       "</style>\n",
       "<table border=\"1\" class=\"dataframe\">\n",
       "  <thead>\n",
       "    <tr style=\"text-align: right;\">\n",
       "      <th></th>\n",
       "      <th>거래일자</th>\n",
       "      <th>출금금액(원)</th>\n",
       "      <th>입금금액(원)</th>\n",
       "    </tr>\n",
       "  </thead>\n",
       "  <tbody>\n",
       "    <tr>\n",
       "      <th>108</th>\n",
       "      <td>2019/12/28</td>\n",
       "      <td>31000</td>\n",
       "      <td>0</td>\n",
       "    </tr>\n",
       "    <tr>\n",
       "      <th>109</th>\n",
       "      <td>2019/12/28</td>\n",
       "      <td>18000</td>\n",
       "      <td>0</td>\n",
       "    </tr>\n",
       "    <tr>\n",
       "      <th>110</th>\n",
       "      <td>2019/12/29</td>\n",
       "      <td>0</td>\n",
       "      <td>100</td>\n",
       "    </tr>\n",
       "    <tr>\n",
       "      <th>111</th>\n",
       "      <td>2019/12/29</td>\n",
       "      <td>10</td>\n",
       "      <td>0</td>\n",
       "    </tr>\n",
       "    <tr>\n",
       "      <th>112</th>\n",
       "      <td>2019/12/31</td>\n",
       "      <td>0</td>\n",
       "      <td>10000</td>\n",
       "    </tr>\n",
       "  </tbody>\n",
       "</table>\n",
       "</div>"
      ],
      "text/plain": [
       "           거래일자  출금금액(원)  입금금액(원)\n",
       "108  2019/12/28    31000        0\n",
       "109  2019/12/28    18000        0\n",
       "110  2019/12/29        0      100\n",
       "111  2019/12/29       10        0\n",
       "112  2019/12/31        0    10000"
      ]
     },
     "execution_count": 4,
     "metadata": {},
     "output_type": "execute_result"
    }
   ],
   "source": [
    "account_df = pd.read_excel('./통장거래내역.xls', skiprows = 9)[['거래일자','출금금액(원)','입금금액(원)']]\n",
    "account_df['출금금액(원)'] = account_df['출금금액(원)'].fillna(0).astype(int)\n",
    "account_df['입금금액(원)'] = account_df['입금금액(원)'].fillna(0).astype(int)\n",
    "account_df = account_df.sort_values('거래일자').reset_index(drop=True)\n",
    "account_df.tail()"
   ]
  },
  {
   "cell_type": "code",
   "execution_count": 4,
   "metadata": {},
   "outputs": [
    {
     "data": {
      "text/plain": [
       "True"
      ]
     },
     "execution_count": 4,
     "metadata": {},
     "output_type": "execute_result"
    }
   ],
   "source": [
    "income_check = sum(system_df.수입금액) == sum(account_df['입금금액(원)'])\n",
    "income_check"
   ]
  },
  {
   "cell_type": "code",
   "execution_count": 5,
   "metadata": {},
   "outputs": [
    {
     "data": {
      "text/plain": [
       "True"
      ]
     },
     "execution_count": 5,
     "metadata": {},
     "output_type": "execute_result"
    }
   ],
   "source": [
    "cost_check = sum(system_df.지출금액) == sum(account_df['출금금액(원)'])\n",
    "cost_check"
   ]
  },
  {
   "cell_type": "code",
   "execution_count": 5,
   "metadata": {
    "scrolled": true
   },
   "outputs": [
    {
     "data": {
      "text/html": [
       "<div>\n",
       "<style scoped>\n",
       "    .dataframe tbody tr th:only-of-type {\n",
       "        vertical-align: middle;\n",
       "    }\n",
       "\n",
       "    .dataframe tbody tr th {\n",
       "        vertical-align: top;\n",
       "    }\n",
       "\n",
       "    .dataframe thead th {\n",
       "        text-align: right;\n",
       "    }\n",
       "</style>\n",
       "<table border=\"1\" class=\"dataframe\">\n",
       "  <thead>\n",
       "    <tr style=\"text-align: right;\">\n",
       "      <th></th>\n",
       "      <th>수입금액</th>\n",
       "      <th>지출금액</th>\n",
       "    </tr>\n",
       "    <tr>\n",
       "      <th>결의일자</th>\n",
       "      <th></th>\n",
       "      <th></th>\n",
       "    </tr>\n",
       "  </thead>\n",
       "  <tbody>\n",
       "    <tr>\n",
       "      <th>2019/12/23</th>\n",
       "      <td>10000</td>\n",
       "      <td>140792</td>\n",
       "    </tr>\n",
       "    <tr>\n",
       "      <th>2019/12/26</th>\n",
       "      <td>40000</td>\n",
       "      <td>0</td>\n",
       "    </tr>\n",
       "    <tr>\n",
       "      <th>2019/12/28</th>\n",
       "      <td>0</td>\n",
       "      <td>49000</td>\n",
       "    </tr>\n",
       "    <tr>\n",
       "      <th>2019/12/29</th>\n",
       "      <td>100</td>\n",
       "      <td>10</td>\n",
       "    </tr>\n",
       "    <tr>\n",
       "      <th>2019/12/31</th>\n",
       "      <td>10000</td>\n",
       "      <td>0</td>\n",
       "    </tr>\n",
       "  </tbody>\n",
       "</table>\n",
       "</div>"
      ],
      "text/plain": [
       "             수입금액    지출금액\n",
       "결의일자                     \n",
       "2019/12/23  10000  140792\n",
       "2019/12/26  40000       0\n",
       "2019/12/28      0   49000\n",
       "2019/12/29    100      10\n",
       "2019/12/31  10000       0"
      ]
     },
     "execution_count": 5,
     "metadata": {},
     "output_type": "execute_result"
    }
   ],
   "source": [
    "system_df_groupby = system_df.groupby('결의일자')[['수입금액','지출금액']].sum()\n",
    "system_df_groupby.tail()"
   ]
  },
  {
   "cell_type": "code",
   "execution_count": 6,
   "metadata": {
    "scrolled": true
   },
   "outputs": [
    {
     "data": {
      "text/html": [
       "<div>\n",
       "<style scoped>\n",
       "    .dataframe tbody tr th:only-of-type {\n",
       "        vertical-align: middle;\n",
       "    }\n",
       "\n",
       "    .dataframe tbody tr th {\n",
       "        vertical-align: top;\n",
       "    }\n",
       "\n",
       "    .dataframe thead th {\n",
       "        text-align: right;\n",
       "    }\n",
       "</style>\n",
       "<table border=\"1\" class=\"dataframe\">\n",
       "  <thead>\n",
       "    <tr style=\"text-align: right;\">\n",
       "      <th></th>\n",
       "      <th>입금금액(원)</th>\n",
       "      <th>출금금액(원)</th>\n",
       "    </tr>\n",
       "    <tr>\n",
       "      <th>거래일자</th>\n",
       "      <th></th>\n",
       "      <th></th>\n",
       "    </tr>\n",
       "  </thead>\n",
       "  <tbody>\n",
       "    <tr>\n",
       "      <th>2019/12/23</th>\n",
       "      <td>10000</td>\n",
       "      <td>140792</td>\n",
       "    </tr>\n",
       "    <tr>\n",
       "      <th>2019/12/26</th>\n",
       "      <td>40000</td>\n",
       "      <td>0</td>\n",
       "    </tr>\n",
       "    <tr>\n",
       "      <th>2019/12/28</th>\n",
       "      <td>0</td>\n",
       "      <td>49000</td>\n",
       "    </tr>\n",
       "    <tr>\n",
       "      <th>2019/12/29</th>\n",
       "      <td>100</td>\n",
       "      <td>10</td>\n",
       "    </tr>\n",
       "    <tr>\n",
       "      <th>2019/12/31</th>\n",
       "      <td>10000</td>\n",
       "      <td>0</td>\n",
       "    </tr>\n",
       "  </tbody>\n",
       "</table>\n",
       "</div>"
      ],
      "text/plain": [
       "            입금금액(원)  출금금액(원)\n",
       "거래일자                        \n",
       "2019/12/23    10000   140792\n",
       "2019/12/26    40000        0\n",
       "2019/12/28        0    49000\n",
       "2019/12/29      100       10\n",
       "2019/12/31    10000        0"
      ]
     },
     "execution_count": 6,
     "metadata": {},
     "output_type": "execute_result"
    }
   ],
   "source": [
    "account_df_groupby = account_df.groupby('거래일자')[['입금금액(원)','출금금액(원)']].sum()\n",
    "account_df_groupby.tail()"
   ]
  },
  {
   "cell_type": "code",
   "execution_count": 8,
   "metadata": {},
   "outputs": [
    {
     "data": {
      "text/plain": [
       "((78, 2), (77, 2))"
      ]
     },
     "execution_count": 8,
     "metadata": {},
     "output_type": "execute_result"
    }
   ],
   "source": [
    "(system_df_groupby.shape, account_df_groupby.shape)"
   ]
  },
  {
   "cell_type": "code",
   "execution_count": 9,
   "metadata": {},
   "outputs": [
    {
     "data": {
      "text/plain": [
       "['2019/01/10']"
      ]
     },
     "execution_count": 9,
     "metadata": {},
     "output_type": "execute_result"
    }
   ],
   "source": [
    "[idx for idx in system_df_groupby.index if idx not in account_df_groupby.index]"
   ]
  },
  {
   "cell_type": "code",
   "execution_count": 10,
   "metadata": {},
   "outputs": [
    {
     "data": {
      "text/plain": [
       "[]"
      ]
     },
     "execution_count": 10,
     "metadata": {},
     "output_type": "execute_result"
    }
   ],
   "source": [
    "[idx for idx in account_df_groupby.index if idx not in system_df_groupby.index]"
   ]
  },
  {
   "cell_type": "code",
   "execution_count": 11,
   "metadata": {},
   "outputs": [
    {
     "data": {
      "text/plain": [
       "[('2019/02/25', 90000, 100000)]"
      ]
     },
     "execution_count": 11,
     "metadata": {},
     "output_type": "execute_result"
    }
   ],
   "source": [
    "[ (idx, item1, item2) for (idx, item1, item2) \n",
    "     in zip(system_df_groupby.index[3:], system_df_groupby['수입금액'][3:], account_df_groupby['입금금액(원)'][2:])\n",
    "     if item1 != item2 ]"
   ]
  },
  {
   "cell_type": "markdown",
   "metadata": {},
   "source": [
    "## 결론 : 양쪽 총액은 맞지만, 세부내역에서 차이가 있음\n",
    "1. 결의서전표 2019/01/10-3 날짜 수입 10,000 원(개인후원)은 통장 거래내역에 존재하지 않음\n",
    "2. 결의서전표 2019/02/25-4 날짜 수입 90,000 원(개인후원 등)은 통장 거래내역보다 10,000 원 적음\n",
    "3. 우연히 두 오류가 동시에 발생하면서, 총액 기준으로는 문제가 없어 보였던 것임"
   ]
  },
  {
   "cell_type": "code",
   "execution_count": 9,
   "metadata": {
    "scrolled": true
   },
   "outputs": [
    {
     "data": {
      "text/html": [
       "<div>\n",
       "<style scoped>\n",
       "    .dataframe tbody tr th:only-of-type {\n",
       "        vertical-align: middle;\n",
       "    }\n",
       "\n",
       "    .dataframe tbody tr th {\n",
       "        vertical-align: top;\n",
       "    }\n",
       "\n",
       "    .dataframe thead th {\n",
       "        text-align: right;\n",
       "    }\n",
       "</style>\n",
       "<table border=\"1\" class=\"dataframe\">\n",
       "  <thead>\n",
       "    <tr style=\"text-align: right;\">\n",
       "      <th></th>\n",
       "      <th>수입금액</th>\n",
       "      <th>지출금액</th>\n",
       "      <th>입금금액(원)</th>\n",
       "      <th>출금금액(원)</th>\n",
       "    </tr>\n",
       "    <tr>\n",
       "      <th>날짜</th>\n",
       "      <th></th>\n",
       "      <th></th>\n",
       "      <th></th>\n",
       "      <th></th>\n",
       "    </tr>\n",
       "  </thead>\n",
       "  <tbody>\n",
       "    <tr>\n",
       "      <th>2019/01/04</th>\n",
       "      <td>0</td>\n",
       "      <td>69200</td>\n",
       "      <td>0</td>\n",
       "      <td>69200</td>\n",
       "    </tr>\n",
       "    <tr>\n",
       "      <th>2019/01/09</th>\n",
       "      <td>0</td>\n",
       "      <td>66000</td>\n",
       "      <td>0</td>\n",
       "      <td>66000</td>\n",
       "    </tr>\n",
       "    <tr>\n",
       "      <th>2019/01/10</th>\n",
       "      <td>10000</td>\n",
       "      <td>0</td>\n",
       "      <td>0</td>\n",
       "      <td>0</td>\n",
       "    </tr>\n",
       "    <tr>\n",
       "      <th>2019/01/18</th>\n",
       "      <td>0</td>\n",
       "      <td>400000</td>\n",
       "      <td>0</td>\n",
       "      <td>400000</td>\n",
       "    </tr>\n",
       "    <tr>\n",
       "      <th>2019/01/21</th>\n",
       "      <td>10000</td>\n",
       "      <td>0</td>\n",
       "      <td>10000</td>\n",
       "      <td>0</td>\n",
       "    </tr>\n",
       "  </tbody>\n",
       "</table>\n",
       "</div>"
      ],
      "text/plain": [
       "             수입금액    지출금액  입금금액(원)  출금금액(원)\n",
       "날짜                                         \n",
       "2019/01/04      0   69200        0    69200\n",
       "2019/01/09      0   66000        0    66000\n",
       "2019/01/10  10000       0        0        0\n",
       "2019/01/18      0  400000        0   400000\n",
       "2019/01/21  10000       0    10000        0"
      ]
     },
     "execution_count": 9,
     "metadata": {},
     "output_type": "execute_result"
    }
   ],
   "source": [
    "merge_df = system_df_groupby.merge(account_df_groupby, how='outer',left_on=system_df_groupby.index, right_on=account_df_groupby.index)\n",
    "merge_df = merge_df.rename(columns={'key_0':'날짜'}).set_index('날짜')\n",
    "merge_df = merge_df.fillna(0).astype(int)\n",
    "merge_df.head()"
   ]
  },
  {
   "cell_type": "code",
   "execution_count": 13,
   "metadata": {},
   "outputs": [
    {
     "name": "stdout",
     "output_type": "stream",
     "text": [
      "====== [수입 결의서] 문제가 발견되었습니다. =====\n",
      "\n",
      "1. [수입 결의서] 2019/01/10 날짜에 10000원으로 입력된 부분은 통장 거래내역에 0원입니다.\n",
      "\n",
      "2. [수입 결의서] 2019/02/25 날짜에 90000원으로 입력된 부분은 통장 거래내역에 100000원입니다.\n",
      "\n"
     ]
    }
   ],
   "source": [
    "unmatch_income = [ (idx, item1, item2) for (idx, item1, item2) \n",
    "     in zip(merge_df.index, merge_df['수입금액'], merge_df['입금금액(원)'])\n",
    "     if item1 != item2 ]\n",
    "\n",
    "if not unmatch_income:\n",
    "    print('[수입 결의서] 정상입니다.')\n",
    "else:\n",
    "    print('====== [수입 결의서] 문제가 발견되었습니다. =====\\n')\n",
    "    for idx, line in enumerate(unmatch_income):\n",
    "        print(f'{idx+1}. [수입 결의서] {line[0]} 날짜에 {line[1]}원으로 입력된 부분은 통장 거래내역에 {line[2]}원입니다.\\n')"
   ]
  },
  {
   "cell_type": "code",
   "execution_count": 14,
   "metadata": {
    "scrolled": true
   },
   "outputs": [
    {
     "name": "stdout",
     "output_type": "stream",
     "text": [
      "[지출 결의서] 정상입니다.\n"
     ]
    }
   ],
   "source": [
    "unmatch_cost = [ (idx, item1, item2) for (idx, item1, item2) \n",
    "     in zip(merge_df.index, merge_df['지출금액'], merge_df['출금금액(원)'])\n",
    "     if item1 != item2 ]\n",
    "\n",
    "if not unmatch_cost:\n",
    "    print('[지출 결의서] 정상입니다.')\n",
    "else:\n",
    "    print('====== [지출 결의서] 문제가 발견되었습니다. =====\\n')\n",
    "    for idx, line in enumerate(unmatch_cost):\n",
    "        print(f'{idx+1}. [지출 결의서] {line[0]} 날짜에 {line[1]}원으로 입력된 부분은 통장 거래내역에 {line[2]}원입니다.\\n')"
   ]
  },
  {
   "cell_type": "code",
   "execution_count": null,
   "metadata": {},
   "outputs": [],
   "source": []
  }
 ],
 "metadata": {
  "kernelspec": {
   "display_name": "Python 3",
   "language": "python",
   "name": "python3"
  },
  "language_info": {
   "codemirror_mode": {
    "name": "ipython",
    "version": 3
   },
   "file_extension": ".py",
   "mimetype": "text/x-python",
   "name": "python",
   "nbconvert_exporter": "python",
   "pygments_lexer": "ipython3",
   "version": "3.6.6"
  }
 },
 "nbformat": 4,
 "nbformat_minor": 2
}
